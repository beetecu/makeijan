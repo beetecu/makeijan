{
 "cells": [
  {
   "cell_type": "markdown",
   "metadata": {
    "pycharm": {
     "name": "#%% md\n"
    }
   },
   "source": [
    "# Predicting CPU perfomance (Multimodel use case)"
   ]
  },
  {
   "cell_type": "markdown",
   "metadata": {
    "pycharm": {
     "name": "#%% md\n"
    }
   },
   "source": [
    "### Description\n",
    "This notebook show how to build a set of models for one query. Every model is related to the unique values of one column.\n",
    "\n",
    "For this query to table box.stat.unix.dstatLt1 \n",
    "\n",
    "response = serrea_api.query(query=\"from box.stat.unix.dstatLt1 select ifthenelse(swapUsed>0,swapUsed/(swapUsed+swapFree)*100, 0.0)\"\n",
    "                           \" as _swap select memUsed / (memUsed + memBuff + memCach + memFree) * 100 as _mem group every \"\n",
    "                           \"1m by machine every 1h select avg(100 - cpuIdl) as cpu select avg(_mem) as mem select avg(_swap) \"\n",
    "                           \"as swap select avg(cpuUsr) as user select avg(cpuSys) as system select avg(dskRead) as dskRead \"\n",
    "                           \"select avg(dskWrit) as dskWrit select avg(netRecv) as netRecv select avg(netSend) as netSend \"\n",
    "                           \"select avg(loadOne) as loadOne select avg(loadFiv) as loadFiv select avg(loadFif) as loadFif \"\n",
    "                           \"where machine = 'aws-api-euw1-54-155-137-86' or machine = 'aws-api-euw1-54-155-154-74'\"\n",
    "                           \"or machine = 'aws-api-euw1-54-155-156-119' or machine = 'aws-apiodata-euw1-52-18-211-116' \n",
    "                           \"or machine = 'aws-apiodata-euw1-52-49-216-97' or machine = 'aws-asilo-euw1-54-74-172-17' \n",
    "                           \"or machine = 'aws-batracentral-euw1-54-155-147-61'\"\n",
    "                           \"or machine = 'aws-batracentral-euw1-54-228-243-123' or machine = 'aws-batracentral-euw1-54-73-163-217'\"\n",
    "                           \"or machine = 'aws-datanode-euw1-54-155-73-49' or machine = 'aws-datanode-euw1-54-170-191-194'\"\n",
    "                           \"or machine = 'aws-datanode-euw1-54-170-249-16' or machine = 'aws-datanode-euw1-54-170-33-138'\"\n",
    "                           \"or machine = 'aws-datanode-euw1-54-170-54-24' or machine = 'aws-datanode-euw1-54-170-61-12'\"\n",
    "                           \"or machine = 'aws-datanode-euw1-54-216-128-44' or machine = 'aws-datanode-euw1-54-216-136-88'\"\n",
    "                           \"or machine = 'aws-datanode-euw1-54-216-160-50'or machine = 'aws-datanode-euw1-54-216-180-152'\"\n",
    "                           \"or machine = 'machine aws-datanode-euw1-54-216-189-12'\",\n",
    "                     dates= {'from': \"2017-02-01 00:00:00\", 'to': \"2017-05-01 00:00:00\"},\n",
    "                     response=\"csv\",\n",
    "                     stream=False)\n",
    "                     \n",
    "We are going to build one model for each machine to predict their cpu performance\n"
   ]
  },
  {
   "cell_type": "markdown",
   "metadata": {
    "pycharm": {
     "name": "#%% md\n"
    }
   },
   "source": [
    "# H2O.ai"
   ]
  },
  {
   "cell_type": "code",
   "execution_count": null,
   "outputs": [],
   "source": [
    "import os\n",
    "ARTIFACTS_PATH = '../../artifacts/h2o/'\n",
    "os.makedirs(ARTIFACTS_PATH, exist_ok=True) # Create path if not exists"
   ],
   "metadata": {
    "collapsed": false,
    "pycharm": {
     "name": "#%%\n"
    }
   }
  },
  {
   "cell_type": "code",
   "execution_count": null,
   "outputs": [],
   "source": [
    "import h2o\n",
    "h2o.init()"
   ],
   "metadata": {
    "collapsed": false,
    "pycharm": {
     "name": "#%%\n"
    }
   }
  },
  {
   "cell_type": "code",
   "execution_count": null,
   "outputs": [],
   "source": [
    "modelsdir = \"multimodel/\"\n",
    "\n",
    "import pandas as pd\n",
    "df = pd.read_csv(\"../../data/cpu/training.csv\")\n",
    "\n",
    "y = 'cpu'\n",
    "x = ['mem', 'swap', 'system', 'dskRead', 'dskWrit', 'loadOne', 'loadFiv', 'loadFif', 'netRecv', 'netSend']\n"
   ],
   "metadata": {
    "collapsed": false,
    "pycharm": {
     "name": "#%%\n"
    }
   }
  },
  {
   "cell_type": "markdown",
   "source": [
    "## Creating Models"
   ],
   "metadata": {
    "collapsed": false,
    "pycharm": {
     "name": "#%% md\n"
    }
   }
  },
  {
   "cell_type": "code",
   "execution_count": null,
   "outputs": [],
   "source": [
    "\n",
    "#first of all: erase existent files in the models folder\n",
    "import glob\n",
    "import os\n",
    "print('Erase existing files')\n",
    "files = glob.glob(modelsdir + '/*')\n",
    "for f in files:\n",
    "    os.remove(f)\n",
    "    \n",
    "from h2o.estimators import H2OGradientBoostingEstimator   \n",
    "\n",
    "k = 0\n",
    "mse = []\n",
    "maxNumberMachines = 20\n",
    "for i in df['machine'].unique()[0:maxNumberMachines]:\n",
    "    print('Machine number: ' + str(k))\n",
    "    k = k + 1\n",
    "    print('Training model for machine ' + i + ':')\n",
    "    reduced_df = df[df['machine'] == i]\n",
    "    hf = h2o.H2OFrame(reduced_df)\n",
    "    trainPercentage = 60\n",
    "    validationPercentage = 20\n",
    "    train = hf[range(0, hf.shape[0] * trainPercentage // 100, 1), :]\n",
    "    validation = hf[range(hf.shape[0] * trainPercentage// 100, hf.shape[0] * (trainPercentage + validationPercentage) // 100, 1), :]\n",
    "    test = hf[range(hf.shape[0] * 80 // 100, hf.shape[0], 1), :]\n",
    "\n",
    "   \n",
    "    gbm_model = H2OGradientBoostingEstimator(distribution=\"gaussian\", seed = 42, nfolds = 5, ntrees = 100, learn_rate = 0.1,\n",
    "                                               sample_rate = 0.6, col_sample_rate = 0.7, ignore_const_cols = False)\n",
    "\n",
    "    gbm_model.train(x = x, y = y, training_frame = train, validation_frame = validation, model_id = i)\n",
    "\n",
    "\n",
    "    #saving model mojo to mlmodels folder\n",
    "    model_file = gbm_model.download_mojo(path = ARTIFACTS_PATH + '/',\n",
    "                                           get_genmodel_jar = False)\n",
    "\n",
    "    os.rename(model_file, modelsdir + '/' + i + \".zip\")"
   ],
   "metadata": {
    "collapsed": false,
    "pycharm": {
     "name": "#%%\n"
    }
   }
  },
  {
   "cell_type": "code",
   "execution_count": 17,
   "metadata": {
    "pycharm": {
     "name": "#%%\n"
    }
   },
   "outputs": [
    {
     "name": "stdout",
     "output_type": "stream",
     "text": [
      "Erase existing files\n",
      "Machine number: 0\n",
      "Training model for machine aws-api-euw1-54-155-137-86:\n",
      "Parse progress: |█████████████████████████████████████████████████████████| 100%\n",
      "gbm Model Build progress: |███████████████████████████████████████████████| 100%\n",
      "Machine number: 1\n",
      "Training model for machine aws-api-euw1-54-155-154-74:\n",
      "Parse progress: |█████████████████████████████████████████████████████████| 100%\n",
      "gbm Model Build progress: |███████████████████████████████████████████████| 100%\n",
      "Machine number: 2\n",
      "Training model for machine aws-api-euw1-54-155-156-119:\n",
      "Parse progress: |█████████████████████████████████████████████████████████| 100%\n",
      "gbm Model Build progress: |███████████████████████████████████████████████| 100%\n",
      "Machine number: 3\n",
      "Training model for machine aws-apiodata-euw1-52-18-211-116:\n",
      "Parse progress: |█████████████████████████████████████████████████████████| 100%\n",
      "gbm Model Build progress: |███████████████████████████████████████████████| 100%\n",
      "Machine number: 4\n",
      "Training model for machine aws-apiodata-euw1-52-49-216-97:\n",
      "Parse progress: |█████████████████████████████████████████████████████████| 100%\n",
      "gbm Model Build progress: |███████████████████████████████████████████████| 100%\n",
      "Machine number: 5\n",
      "Training model for machine aws-asilo-euw1-54-74-172-17:\n",
      "Parse progress: |█████████████████████████████████████████████████████████| 100%\n",
      "gbm Model Build progress: |███████████████████████████████████████████████| 100%\n",
      "Machine number: 6\n",
      "Training model for machine aws-batracentral-euw1-54-155-147-61:\n",
      "Parse progress: |█████████████████████████████████████████████████████████| 100%\n",
      "gbm Model Build progress: |███████████████████████████████████████████████| 100%\n",
      "Machine number: 7\n",
      "Training model for machine aws-batracentral-euw1-54-228-243-123:\n",
      "Parse progress: |█████████████████████████████████████████████████████████| 100%\n",
      "gbm Model Build progress: |███████████████████████████████████████████████| 100%\n",
      "Machine number: 8\n",
      "Training model for machine aws-batracentral-euw1-54-73-163-217:\n",
      "Parse progress: |█████████████████████████████████████████████████████████| 100%\n",
      "gbm Model Build progress: |███████████████████████████████████████████████| 100%\n",
      "Machine number: 9\n",
      "Training model for machine aws-datanode-euw1-54-155-73-49:\n",
      "Parse progress: |█████████████████████████████████████████████████████████| 100%\n",
      "gbm Model Build progress: |███████████████████████████████████████████████| 100%\n",
      "Machine number: 10\n",
      "Training model for machine aws-datanode-euw1-54-170-191-194:\n",
      "Parse progress: |█████████████████████████████████████████████████████████| 100%\n",
      "gbm Model Build progress: |███████████████████████████████████████████████| 100%\n",
      "Machine number: 11\n",
      "Training model for machine aws-datanode-euw1-54-170-249-16:\n",
      "Parse progress: |█████████████████████████████████████████████████████████| 100%\n",
      "gbm Model Build progress: |███████████████████████████████████████████████| 100%\n",
      "Machine number: 12\n",
      "Training model for machine aws-datanode-euw1-54-170-33-138:\n",
      "Parse progress: |█████████████████████████████████████████████████████████| 100%\n",
      "gbm Model Build progress: |███████████████████████████████████████████████| 100%\n",
      "Machine number: 13\n",
      "Training model for machine aws-datanode-euw1-54-170-54-24:\n",
      "Parse progress: |█████████████████████████████████████████████████████████| 100%\n",
      "gbm Model Build progress: |███████████████████████████████████████████████| 100%\n",
      "Machine number: 14\n",
      "Training model for machine aws-datanode-euw1-54-170-61-12:\n",
      "Parse progress: |█████████████████████████████████████████████████████████| 100%\n",
      "gbm Model Build progress: |███████████████████████████████████████████████| 100%\n",
      "Machine number: 15\n",
      "Training model for machine aws-datanode-euw1-54-216-128-44:\n",
      "Parse progress: |█████████████████████████████████████████████████████████| 100%\n",
      "gbm Model Build progress: |███████████████████████████████████████████████| 100%\n",
      "Machine number: 16\n",
      "Training model for machine aws-datanode-euw1-54-216-136-88:\n",
      "Parse progress: |█████████████████████████████████████████████████████████| 100%\n",
      "gbm Model Build progress: |███████████████████████████████████████████████| 100%\n",
      "Machine number: 17\n",
      "Training model for machine aws-datanode-euw1-54-216-160-50:\n",
      "Parse progress: |█████████████████████████████████████████████████████████| 100%\n",
      "gbm Model Build progress: |███████████████████████████████████████████████| 100%\n",
      "Machine number: 18\n",
      "Training model for machine aws-datanode-euw1-54-216-180-152:\n",
      "Parse progress: |█████████████████████████████████████████████████████████| 100%\n",
      "gbm Model Build progress: |███████████████████████████████████████████████| 100%\n"
     ]
    }
   ],
   "source": [
    "\n",
    "#first of all: erase existent files in the models folder\n",
    "import glob\n",
    "import os\n",
    "print('Erase existing files')\n",
    "files = glob.glob(modelsdir + '/*')\n",
    "for f in files:\n",
    "    os.remove(f)\n",
    "    \n",
    "from h2o.estimators import H2OGradientBoostingEstimator   \n",
    "\n",
    "k = 0\n",
    "mse = []\n",
    "maxNumberMachines = 20\n",
    "for i in df['machine'].unique()[0:maxNumberMachines]:\n",
    "    print('Machine number: ' + str(k))\n",
    "    k = k + 1\n",
    "    print('Training model for machine ' + i + ':')\n",
    "    reduced_df = df[df['machine'] == i]\n",
    "    hf = h2o.H2OFrame(reduced_df)\n",
    "    trainPercentage = 60\n",
    "    validationPercentage = 20\n",
    "    train = hf[range(0, hf.shape[0] * trainPercentage // 100, 1), :]\n",
    "    validation = hf[range(hf.shape[0] * trainPercentage// 100, hf.shape[0] * (trainPercentage + validationPercentage) // 100, 1), :]\n",
    "    test = hf[range(hf.shape[0] * 80 // 100, hf.shape[0], 1), :]\n",
    "\n",
    "   \n",
    "    gbm_model = H2OGradientBoostingEstimator(distribution=\"gaussian\", seed = 42, nfolds = 5, ntrees = 100, learn_rate = 0.1,\n",
    "                                               sample_rate = 0.6, col_sample_rate = 0.7, ignore_const_cols = False)\n",
    "\n",
    "    gbm_model.train(x = x, y = y, training_frame = train, validation_frame = validation, model_id = i)\n",
    "\n",
    "\n",
    "    #saving model mojo to mlmodels folder\n",
    "    model_file = gbm_model.download_mojo(path = ARTIFACTS_PATH + '/',\n",
    "                                           get_genmodel_jar = False)\n",
    "\n",
    "    os.rename(model_file, modelsdir + '/' + i + \".zip\")"
   ]
  }
 ],
 "metadata": {
  "kernelspec": {
   "display_name": "Python 3",
   "language": "python",
   "name": "python3"
  },
  "language_info": {
   "codemirror_mode": {
    "name": "ipython",
    "version": 3
   },
   "file_extension": ".py",
   "mimetype": "text/x-python",
   "name": "python",
   "nbconvert_exporter": "python",
   "pygments_lexer": "ipython3",
   "version": "3.8.10"
  }
 },
 "nbformat": 4,
 "nbformat_minor": 2
}