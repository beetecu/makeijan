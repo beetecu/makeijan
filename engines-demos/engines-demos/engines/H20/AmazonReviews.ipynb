{
 "cells": [
  {
   "cell_type": "markdown",
   "metadata": {
    "pycharm": {
     "name": "#%% md\n"
    }
   },
   "source": [
    "## Predicting Good Amazon Reviews\n",
    "\n",
    "For this demo, we will be using the [Amazon Fine Food Reviews Data](https://www.kaggle.com/snap/amazon-fine-food-reviews).  The Amazon Fine Food Reviews dataset consists of 568,454 food reviews Amazon users left up to October 2012.\n",
    "\n",
    "This script is based off of the [Craigslist Word2Vec Demo](https://github.com/h2oai/h2o-3/blob/master/h2o-py/demos/word2vec_craigslistjobtitles.ipynb).\n",
    "\n",
    "## Import Data\n",
    "\n",
    "We will begin by importing our review data into our H2O cluster.  In this case, I will be starting up an H2O cluster on my local computer."
   ]
  },
  {
   "cell_type": "code",
   "execution_count": 2,
   "metadata": {
    "pycharm": {
     "name": "#%%\n"
    }
   },
   "outputs": [],
   "source": [
    "import os\n",
    "ARTIFACTS_PATH = '../../artifacts/h2o/'\n",
    "os.makedirs(ARTIFACTS_PATH, exist_ok=True) # Create path if not exists"
   ]
  },
  {
   "cell_type": "code",
   "execution_count": 3,
   "metadata": {
    "pycharm": {
     "name": "#%%\n"
    }
   },
   "outputs": [],
   "source": [
    "import h2o"
   ]
  },
  {
   "cell_type": "code",
   "execution_count": 4,
   "metadata": {
    "pycharm": {
     "name": "#%%\n"
    }
   },
   "outputs": [
    {
     "name": "stdout",
     "output_type": "stream",
     "text": [
      "Checking whether there is an H2O instance running at http://localhost:54321 . connected.\n",
      "Warning: Your H2O cluster version is too old (3 months and 29 days)!Please download and install the latest version from http://h2o.ai/download/\n"
     ]
    },
    {
     "data": {
      "text/plain": "--------------------------  ----------------------------------------------------------------------------\nH2O_cluster_uptime:         1 hour 2 mins\nH2O_cluster_timezone:       Europe/Madrid\nH2O_data_parsing_timezone:  UTC\nH2O_cluster_version:        3.36.0.2\nH2O_cluster_version_age:    3 months and 29 days !!!\nH2O_cluster_name:           H2O_from_python_elizagonzalez_xeixu6\nH2O_cluster_total_nodes:    1\nH2O_cluster_free_memory:    1.568 Gb\nH2O_cluster_total_cores:    16\nH2O_cluster_allowed_cores:  16\nH2O_cluster_status:         locked, healthy\nH2O_connection_url:         http://localhost:54321\nH2O_connection_proxy:       {\"http\": null, \"https\": null}\nH2O_internal_security:      False\nH2O_API_Extensions:         Amazon S3, XGBoost, Algos, Infogram, AutoML, Core V3, TargetEncoder, Core V4\nPython_version:             3.8.10 final\n--------------------------  ----------------------------------------------------------------------------",
      "text/html": "<div style=\"overflow:auto\"><table style=\"width:50%\"><tr><td>H2O_cluster_uptime:</td>\n<td>1 hour 2 mins</td></tr>\n<tr><td>H2O_cluster_timezone:</td>\n<td>Europe/Madrid</td></tr>\n<tr><td>H2O_data_parsing_timezone:</td>\n<td>UTC</td></tr>\n<tr><td>H2O_cluster_version:</td>\n<td>3.36.0.2</td></tr>\n<tr><td>H2O_cluster_version_age:</td>\n<td>3 months and 29 days !!!</td></tr>\n<tr><td>H2O_cluster_name:</td>\n<td>H2O_from_python_elizagonzalez_xeixu6</td></tr>\n<tr><td>H2O_cluster_total_nodes:</td>\n<td>1</td></tr>\n<tr><td>H2O_cluster_free_memory:</td>\n<td>1.568 Gb</td></tr>\n<tr><td>H2O_cluster_total_cores:</td>\n<td>16</td></tr>\n<tr><td>H2O_cluster_allowed_cores:</td>\n<td>16</td></tr>\n<tr><td>H2O_cluster_status:</td>\n<td>locked, healthy</td></tr>\n<tr><td>H2O_connection_url:</td>\n<td>http://localhost:54321</td></tr>\n<tr><td>H2O_connection_proxy:</td>\n<td>{\"http\": null, \"https\": null}</td></tr>\n<tr><td>H2O_internal_security:</td>\n<td>False</td></tr>\n<tr><td>H2O_API_Extensions:</td>\n<td>Amazon S3, XGBoost, Algos, Infogram, AutoML, Core V3, TargetEncoder, Core V4</td></tr>\n<tr><td>Python_version:</td>\n<td>3.8.10 final</td></tr></table></div>"
     },
     "metadata": {},
     "output_type": "display_data"
    }
   ],
   "source": [
    "h2o.init(max_mem_size=\"4G\")"
   ]
  },
  {
   "cell_type": "code",
   "execution_count": 5,
   "metadata": {
    "pycharm": {
     "name": "#%%\n"
    }
   },
   "outputs": [
    {
     "name": "stdout",
     "output_type": "stream",
     "text": [
      "Parse progress: |████████████████████████████████████████████████████████████████| (done) 100%\n"
     ]
    }
   ],
   "source": [
    "# Use local data file or download from GitHub\n",
    "import os\n",
    "docker_data_path = \"/home/h2o/data/nlp/AmazonReviews.csv\"\n",
    "if os.path.isfile(docker_data_path):\n",
    "  data_path = docker_data_path\n",
    "else:\n",
    "  data_path = \"https://s3.amazonaws.com/tomk/h2o-world/megan/AmazonReviews.csv\"\n",
    "\n",
    "\n",
    "# Load data into H2O\n",
    "reviews = h2o.import_file(data_path)"
   ]
  },
  {
   "cell_type": "code",
   "execution_count": 6,
   "metadata": {
    "pycharm": {
     "name": "#%%\n"
    }
   },
   "outputs": [],
   "source": [
    "#' Add Target Column: \"PositiveReview\"\n",
    "reviews[\"PositiveReview\"] = (reviews[\"Score\"] >= 4).ifelse(\"1\", \"0\")"
   ]
  },
  {
   "cell_type": "code",
   "execution_count": 7,
   "metadata": {
    "pycharm": {
     "name": "#%%\n"
    }
   },
   "outputs": [
    {
     "data": {
      "text/html": "<table>\n<thead>\n<tr><th>ProductId  </th><th>UserId        </th><th>Summary                               </th><th style=\"text-align: right;\">  Score</th><th style=\"text-align: right;\">  HelpfulnessDenominator</th><th style=\"text-align: right;\">    Id</th><th>ProfileName                                     </th><th style=\"text-align: right;\">  HelpfulnessNumerator</th><th style=\"text-align: right;\">       Time</th><th>Text                                                                                                                                                                                                                                                                                                                                                                                                                                                                                                                                                                                                                                                                                                                                                                                                                                                                                                                                                                                                                                                                                                                                                                                                                                                                                                                                                                                                                                                                                                                                                                                                                                                                                                                                                                                                                                                                                                                                                                                                                                                                                                                                                                                                                                                                                                                                                                                                                                                                                                                                                                                                                                                                                                                                                                                                                                                                                                                                                                                                                                                                                                                                                                                                                                                        </th><th style=\"text-align: right;\">  PositiveReview</th></tr>\n</thead>\n<tbody>\n<tr><td>B00141QYSQ </td><td>A1YS02UZZGRDCT</td><td>Do Not Buy                            </td><td style=\"text-align: right;\">      1</td><td style=\"text-align: right;\">                       2</td><td style=\"text-align: right;\"> 41471</td><td>Evan Eberhardt                                  </td><td style=\"text-align: right;\">                     2</td><td style=\"text-align: right;\">1.34836e+09</td><td>These are made in China (do not buy ANY pet food from China).  Dogswell has been using propylene glycol to soften their treats (what are they thinkng?).  Do not purchase or support this company in any way until they clean up their act.  And for whatever reason Amazon doesn't allow returns of this item, so I had to toss mine out.  Bad business all around on this one.                                                                                                                                                                                                                                                                                                                                                                                                                                                                                                                                                                                                                                                                                                                                                                                                                                                                                                                                                                                                                                                                                                                                                                                                                                                                                                                                                                                                                                                                                                                                                                                                                                                                                                                                                                                                                                                                                                                                                                                                                                                                                                                                                                                                                                                                                                                                                                                                                                                                                                                                                                                                                                                                                                                                                                                                                                                                            </td><td style=\"text-align: right;\">               0</td></tr>\n<tr><td>B0089SPEO2 </td><td>A3JOYNYL458QHP</td><td>Less lemon and less zing              </td><td style=\"text-align: right;\">      3</td><td style=\"text-align: right;\">                       0</td><td style=\"text-align: right;\"> 28582</td><td>coleridge                                       </td><td style=\"text-align: right;\">                     0</td><td style=\"text-align: right;\">1.32391e+09</td><td>Everything is ok, except it just isn't as good as it is in the bags.  Just considerably more bland -- less lemon and less zing.  Boring.                                                                                                                                                                                                                                                                                                                                                                                                                                                                                                                                                                                                                                                                                                                                                                                                                                                                                                                                                                                                                                                                                                                                                                                                                                                                                                                                                                                                                                                                                                                                                                                                                                                                                                                                                                                                                                                                                                                                                                                                                                                                                                                                                                                                                                                                                                                                                                                                                                                                                                                                                                                                                                                                                                                                                                                                                                                                                                                                                                                                                                                                                                                    </td><td style=\"text-align: right;\">               0</td></tr>\n<tr><td>B001PMCDK2 </td><td>A14TTMM0Z03Y2W</td><td>my cat goes crazy for these!          </td><td style=\"text-align: right;\">      5</td><td style=\"text-align: right;\">                       0</td><td style=\"text-align: right;\">389965</td><td>Lindsay S. Bradford                             </td><td style=\"text-align: right;\">                     0</td><td style=\"text-align: right;\">1.3106e+09 </td><td>Best cat treat ever. There isn't anything comparable to the love my cat has for these treats, he snubs away any other kind now.<br />I know he likes to manipulate me with his cattiness but these treats are my way of manipulating him to come sit on my lap and have some chill time. :)                                                                                                                                                                                                                                                                                                                                                                                                                                                                                                                                                                                                                                                                                                                                                                                                                                                                                                                                                                                                                                                                                                                                                                                                                                                                                                                                                                                                                                                                                                                                                                                                                                                                                                                                                                                                                                                                                                                                                                                                                                                                                                                                                                                                                                                                                                                                                                                                                                                                                                                                                                                                                                                                                                                                                                                                                                                                                                                                                                 </td><td style=\"text-align: right;\">               1</td></tr>\n<tr><td>B002Q8JOSI </td><td>A17UQD2RSSQH5X</td><td>My dogs tell me these treats are YUMMY</td><td style=\"text-align: right;\">      5</td><td style=\"text-align: right;\">                       1</td><td style=\"text-align: right;\">212536</td><td>in the dark                                     </td><td style=\"text-align: right;\">                     1</td><td style=\"text-align: right;\">1.31613e+09</td><td>My two Corgis were thoroughly spoiled by my late husband (I spent a year and a half dieting them down a combined total of 25 pounds!)<br /><br />They are accustomed to the finest of fare, and they absolutely love the Wellness brand of treats.                                                                                                                                                                                                                                                                                                                                                                                                                                                                                                                                                                                                                                                                                                                                                                                                                                                                                                                                                                                                                                                                                                                                                                                                                                                                                                                                                                                                                                                                                                                                                                                                                                                                                                                                                                                                                                                                                                                                                                                                                                                                                                                                                                                                                                                                                                                                                                                                                                                                                                                                                                                                                                                                                                                                                                                                                                                                                                                                                                                                          </td><td style=\"text-align: right;\">               1</td></tr>\n<tr><td>B00176G870 </td><td>A2F2MZW8EOGH5J</td><td>Yummy to the tummy                    </td><td style=\"text-align: right;\">      5</td><td style=\"text-align: right;\">                       0</td><td style=\"text-align: right;\">115971</td><td>daemoncycler \"When you arrive at a fork in th...</td><td style=\"text-align: right;\">                     0</td><td style=\"text-align: right;\">1.33479e+09</td><td>We used to have drive down to the specialty pet food store for this product.  So glad we discovered Amazon.  As far as I can tell it is no more expensive & in some cases less - Prime membership is awesome.  Loving Pets treats are some of the best according to my dog.  They do not develop that nasty smell like some dog treats do.                                                                                                                                                                                                                                                                                                                                                                                                                                                                                                                                                                                                                                                                                                                                                                                                                                                                                                                                                                                                                                                                                                                                                                                                                                                                                                                                                                                                                                                                                                                                                                                                                                                                                                                                                                                                                                                                                                                                                                                                                                                                                                                                                                                                                                                                                                                                                                                                                                                                                                                                                                                                                                                                                                                                                                                                                                                                                                                  </td><td style=\"text-align: right;\">               1</td></tr>\n<tr><td>B001CHFUGY </td><td>A2M8VROSDPU4JT</td><td>Very good coffee                      </td><td style=\"text-align: right;\">      5</td><td style=\"text-align: right;\">                       1</td><td style=\"text-align: right;\">434484</td><td>Officefan \"Officefankt\"                         </td><td style=\"text-align: right;\">                     1</td><td style=\"text-align: right;\">1.27725e+09</td><td>I really liked this coffee, it was just as good as everyone claimed it was.  Strong, bold and flavorful!  I would recommend!                                                                                                                                                                                                                                                                                                                                                                                                                                                                                                                                                                                                                                                                                                                                                                                                                                                                                                                                                                                                                                                                                                                                                                                                                                                                                                                                                                                                                                                                                                                                                                                                                                                                                                                                                                                                                                                                                                                                                                                                                                                                                                                                                                                                                                                                                                                                                                                                                                                                                                                                                                                                                                                                                                                                                                                                                                                                                                                                                                                                                                                                                                                                </td><td style=\"text-align: right;\">               1</td></tr>\n<tr><td>B0041CIR62 </td><td>A16I6WJUEBJ1C3</td><td>okay but not as healthy as it appears </td><td style=\"text-align: right;\">      2</td><td style=\"text-align: right;\">                       1</td><td style=\"text-align: right;\">138997</td><td>doctorsirena \"doctorsirena\"                     </td><td style=\"text-align: right;\">                     1</td><td style=\"text-align: right;\">1.34369e+09</td><td>I am always looking for healthier, whole grain versions of foods I enjoy.  Unfortunately, these Peacock brand noodles are yet another food masquerading as healthy.  The product title in big letters on the front says \"Brown Rice Vermicelli\", making the consumer think \"this is made with brown rice, so it should be a healthy choice\".  But the first indication that it is not is when looking at the fiber content on the nutrition facts - only 0.6g per 2oz serving.  Then onto the ingredients list to see why so low... contains brown rice, sago starch and water.  The sago starch comes from palms and must not have much (if any) fiber.<br /><br />The Annie Chun's Maifun Brown Rice Noodles (sold on Amazon and in my local healthy grocer) has become one of my staples and is my frame of reference when comparing to the Peacock brand.  The Annie Chun's product is made with 100% whole grain, with ingredients brown rice flour and water.  Per 2oz serving, it has 4g fiber and pretty much the same calories and other nutrients as the Peacock brand.<br /><br />If you do try this Peacock brand noodles and have not used rice noodles before, you will need to seek guidance elsewhere on preparation.  As others have pointed out, the Peacock package gives almost no directions on how to prepare the product, aside from a brief mention in the recipes (in the header text it does say that they are \"easy-to-cook\" but does not say how).  It also contains a very strange recipe for rice noodles: Aglio Olio style - this is an Italian recipe for noodles with olive oil/garlic/sprinkled with grated cheese that I think would not be very tasty.  The second recipe appears to be for a soup with veggie strips.  Neither recipe gives amounts or much direction.  In comparison, the Annie Chun's package gives clear, specific directions on rice noodle preparation and two recipes.<br /><br />I use rice noodles = maifun = rice sticks = sometimes called vermicelli for making the Vietnamese salad \"bun tofu\", to serve with stir-fried veggies or in lettuce rolls.  They can also be used in spring rolls/egg rolls.  When cooking with thin rice noodles, be careful not to oversoak/overcook/overmix or they tend to disintegrate.  Asian rice noodle vermicelli (maifun) are not the same as Italian vermicelli and are not readily interchangeable.  If making an Italian recipe, the best results would be expected from Italian pasta and not maifun.<br /><br />A few final notes...  Both Peacock and Annie Chun's brown rice noodles are gluten free.  The Peacock is made in Singapore and the Annie Chun's in Thailand.  The Peacock noodles do taste fine (kind of bland), but so do the Annie Chun's.  At this time, they are both approximately the same price.  Peacock come in an plastic bag with some noodle crushage upon shipping; Annie Chun's are perfect upon removal from their cellophane bag in a box.  Overall, I highly recommend the Annie Chun's Maifun as a healthier option over the Peacock brand.  On a related note, the Annie Chun's soba and brown rice pad thai noodles are also excellent.<br /><br />Rating for this product: 2.5 stars rounded down to 2 stars.</td><td style=\"text-align: right;\">               0</td></tr>\n<tr><td>B001R3BQFW </td><td>AM50E42AFUVNL </td><td>Taste great.                          </td><td style=\"text-align: right;\">      5</td><td style=\"text-align: right;\">                       0</td><td style=\"text-align: right;\">126555</td><td>T. Higley \"Tina\"                                </td><td style=\"text-align: right;\">                     0</td><td style=\"text-align: right;\">1.32356e+09</td><td>I have tried many different drink mix, this is the best tasting by far. It does not have the after taste of the sweetener and I really like it, it is pretty strong, so I use a big water bottle (20 oz) for one tube, it still a little stronger than I like, but it is just my taste.                                                                                                                                                                                                                                                                                                                                                                                                                                                                                                                                                                                                                                                                                                                                                                                                                                                                                                                                                                                                                                                                                                                                                                                                                                                                                                                                                                                                                                                                                                                                                                                                                                                                                                                                                                                                                                                                                                                                                                                                                                                                                                                                                                                                                                                                                                                                                                                                                                                                                                                                                                                                                                                                                                                                                                                                                                                                                                                                                                     </td><td style=\"text-align: right;\">               1</td></tr>\n<tr><td>B005HGAV8I </td><td>A2I5KDNOESGJ1H</td><td>variety galore                        </td><td style=\"text-align: right;\">      5</td><td style=\"text-align: right;\">                       1</td><td style=\"text-align: right;\">438837</td><td>TJ                                              </td><td style=\"text-align: right;\">                     1</td><td style=\"text-align: right;\">1.33402e+09</td><td>This is my favorite item to order for my Keurig. There are so many flavors, my finicky palate never gets bored!  The only downside is there are probably 5-6 decaf varieties.  I don't drink decaf (I REQUIRE copious amounts of caffeine), so they sit on the shelf...                                                                                                                                                                                                                                                                                                                                                                                                                                                                                                                                                                                                                                                                                                                                                                                                                                                                                                                                                                                                                                                                                                                                                                                                                                                                                                                                                                                                                                                                                                                                                                                                                                                                                                                                                                                                                                                                                                                                                                                                                                                                                                                                                                                                                                                                                                                                                                                                                                                                                                                                                                                                                                                                                                                                                                                                                                                                                                                                                                                     </td><td style=\"text-align: right;\">               1</td></tr>\n<tr><td>B000GFYRHQ </td><td>A3A7YUR6FS6ZCI</td><td>Bigelow Earl Grey Green Tea           </td><td style=\"text-align: right;\">      5</td><td style=\"text-align: right;\">                       0</td><td style=\"text-align: right;\">245379</td><td>Tea Lover                                       </td><td style=\"text-align: right;\">                     0</td><td style=\"text-align: right;\">1.17841e+09</td><td>Tastes like Earl Grey, but it's green tea so it's healthier.                                                                                                                                                                                                                                                                                                                                                                                                                                                                                                                                                                                                                                                                                                                                                                                                                                                                                                                                                                                                                                                                                                                                                                                                                                                                                                                                                                                                                                                                                                                                                                                                                                                                                                                                                                                                                                                                                                                                                                                                                                                                                                                                                                                                                                                                                                                                                                                                                                                                                                                                                                                                                                                                                                                                                                                                                                                                                                                                                                                                                                                                                                                                                                                                </td><td style=\"text-align: right;\">               1</td></tr>\n</tbody>\n</table>"
     },
     "metadata": {},
     "output_type": "display_data"
    },
    {
     "data": {
      "text/plain": ""
     },
     "execution_count": 7,
     "metadata": {},
     "output_type": "execute_result"
    }
   ],
   "source": [
    "reviews.head()"
   ]
  },
  {
   "cell_type": "code",
   "execution_count": 8,
   "metadata": {
    "pycharm": {
     "name": "#%%\n"
    }
   },
   "outputs": [
    {
     "data": {
      "text/html": "<table>\n<thead>\n<tr><th style=\"text-align: right;\">  PositiveReview</th><th style=\"text-align: right;\">  Count</th></tr>\n</thead>\n<tbody>\n<tr><td style=\"text-align: right;\">               0</td><td style=\"text-align: right;\">  21791</td></tr>\n<tr><td style=\"text-align: right;\">               1</td><td style=\"text-align: right;\">  78209</td></tr>\n</tbody>\n</table>"
     },
     "metadata": {},
     "output_type": "display_data"
    },
    {
     "data": {
      "text/plain": ""
     },
     "execution_count": 8,
     "metadata": {},
     "output_type": "execute_result"
    }
   ],
   "source": [
    "reviews[\"PositiveReview\"].table()"
   ]
  },
  {
   "cell_type": "markdown",
   "metadata": {
    "pycharm": {
     "name": "#%% md\n"
    }
   },
   "source": [
    "## Train Baseline Model\n",
    "\n",
    "We will start by training a baseline model that does not use the review and instead uses other attributes in our dataset."
   ]
  },
  {
   "cell_type": "code",
   "execution_count": 9,
   "metadata": {
    "pycharm": {
     "name": "#%%\n"
    }
   },
   "outputs": [],
   "source": [
    "# Find the 80th quantile of time in the dataset\n",
    "time_split = reviews[\"Time\"].quantile(prob = [0.8])[1]\n",
    "reviews[\"Train\"] = (reviews[\"Time\"] < time_split).ifelse(\"Yes\", \"No\")"
   ]
  },
  {
   "cell_type": "code",
   "execution_count": 10,
   "metadata": {
    "pycharm": {
     "name": "#%%\n"
    }
   },
   "outputs": [],
   "source": [
    "train = reviews[reviews[\"Train\"] == \"Yes\"]\n",
    "test = reviews[reviews[\"Train\"] == \"No\"]"
   ]
  },
  {
   "cell_type": "code",
   "execution_count": 11,
   "metadata": {
    "pycharm": {
     "name": "#%%\n"
    }
   },
   "outputs": [
    {
     "name": "stdout",
     "output_type": "stream",
     "text": [
      "gbm Model Build progress: |██████████████████████████████████████████████████████| (done) 100%\n",
      "Model Details\n",
      "=============\n",
      "H2OGradientBoostingEstimator :  Gradient Boosting Machine\n",
      "Model Key:  gbm_baseline.hex\n",
      "\n",
      "\n",
      "Model Summary: \n"
     ]
    },
    {
     "data": {
      "text/plain": "     number_of_trees  number_of_internal_trees  model_size_in_bytes  \\\n0               50.0                      50.0              26565.0   \n\n   min_depth  max_depth  mean_depth  min_leaves  max_leaves  mean_leaves  \n0        5.0        5.0         5.0        20.0        32.0        30.68  ",
      "text/html": "<div>\n<style scoped>\n    .dataframe tbody tr th:only-of-type {\n        vertical-align: middle;\n    }\n\n    .dataframe tbody tr th {\n        vertical-align: top;\n    }\n\n    .dataframe thead th {\n        text-align: right;\n    }\n</style>\n<table border=\"1\" class=\"dataframe\">\n  <thead>\n    <tr style=\"text-align: right;\">\n      <th></th>\n      <th></th>\n      <th>number_of_trees</th>\n      <th>number_of_internal_trees</th>\n      <th>model_size_in_bytes</th>\n      <th>min_depth</th>\n      <th>max_depth</th>\n      <th>mean_depth</th>\n      <th>min_leaves</th>\n      <th>max_leaves</th>\n      <th>mean_leaves</th>\n    </tr>\n  </thead>\n  <tbody>\n    <tr>\n      <th>0</th>\n      <td></td>\n      <td>50.0</td>\n      <td>50.0</td>\n      <td>26565.0</td>\n      <td>5.0</td>\n      <td>5.0</td>\n      <td>5.0</td>\n      <td>20.0</td>\n      <td>32.0</td>\n      <td>30.68</td>\n    </tr>\n  </tbody>\n</table>\n</div>"
     },
     "metadata": {},
     "output_type": "display_data"
    },
    {
     "name": "stdout",
     "output_type": "stream",
     "text": [
      "\n",
      "\n",
      "ModelMetricsBinomial: gbm\n",
      "** Reported on train data. **\n",
      "\n",
      "MSE: 0.13095677774210135\n",
      "RMSE: 0.3618795072149034\n",
      "LogLoss: 0.4225308080796732\n",
      "Mean Per-Class Error: 0.3664365877144608\n",
      "AUC: 0.7734025089714696\n",
      "AUCPR: 0.9108873370521795\n",
      "Gini: 0.5468050179429391\n",
      "\n",
      "Confusion Matrix (Act/Pred) for max f1 @ threshold = 0.527033748723949: \n"
     ]
    },
    {
     "data": {
      "text/plain": "               0        1   Error                Rate\n0      0  5016.0  12115.0  0.7072   (12115.0/17131.0)\n1      1  1614.0  61247.0  0.0257    (1614.0/62861.0)\n2  Total  6630.0  73362.0  0.1716   (13729.0/79992.0)",
      "text/html": "<div>\n<style scoped>\n    .dataframe tbody tr th:only-of-type {\n        vertical-align: middle;\n    }\n\n    .dataframe tbody tr th {\n        vertical-align: top;\n    }\n\n    .dataframe thead th {\n        text-align: right;\n    }\n</style>\n<table border=\"1\" class=\"dataframe\">\n  <thead>\n    <tr style=\"text-align: right;\">\n      <th></th>\n      <th></th>\n      <th>0</th>\n      <th>1</th>\n      <th>Error</th>\n      <th>Rate</th>\n    </tr>\n  </thead>\n  <tbody>\n    <tr>\n      <th>0</th>\n      <td>0</td>\n      <td>5016.0</td>\n      <td>12115.0</td>\n      <td>0.7072</td>\n      <td>(12115.0/17131.0)</td>\n    </tr>\n    <tr>\n      <th>1</th>\n      <td>1</td>\n      <td>1614.0</td>\n      <td>61247.0</td>\n      <td>0.0257</td>\n      <td>(1614.0/62861.0)</td>\n    </tr>\n    <tr>\n      <th>2</th>\n      <td>Total</td>\n      <td>6630.0</td>\n      <td>73362.0</td>\n      <td>0.1716</td>\n      <td>(13729.0/79992.0)</td>\n    </tr>\n  </tbody>\n</table>\n</div>"
     },
     "metadata": {},
     "output_type": "display_data"
    },
    {
     "name": "stdout",
     "output_type": "stream",
     "text": [
      "\n",
      "Maximum Metrics: Maximum metrics at their respective thresholds\n"
     ]
    },
    {
     "data": {
      "text/plain": "                         metric  threshold         value    idx\n0                        max f1   0.527034      0.899217  256.0\n1                        max f2   0.268467      0.951053  341.0\n2                  max f0point5   0.736557      0.873269  167.0\n3                  max accuracy   0.587735      0.829508  233.0\n4                 max precision   0.952026      1.000000    0.0\n5                    max recall   0.065807      1.000000  397.0\n6               max specificity   0.952026      1.000000    0.0\n7              max absolute_mcc   0.644497      0.418259  207.0\n8    max min_per_class_accuracy   0.824435      0.697730  107.0\n9   max mean_per_class_accuracy   0.800090      0.708199  128.0\n10                      max tns   0.952026  17131.000000    0.0\n11                      max fns   0.952026  62839.000000    0.0\n12                      max fps   0.049679  17131.000000  399.0\n13                      max tps   0.065807  62861.000000  397.0\n14                      max tnr   0.952026      1.000000    0.0\n15                      max fnr   0.952026      0.999650    0.0\n16                      max fpr   0.049679      1.000000  399.0\n17                      max tpr   0.065807      1.000000  397.0",
      "text/html": "<div>\n<style scoped>\n    .dataframe tbody tr th:only-of-type {\n        vertical-align: middle;\n    }\n\n    .dataframe tbody tr th {\n        vertical-align: top;\n    }\n\n    .dataframe thead th {\n        text-align: right;\n    }\n</style>\n<table border=\"1\" class=\"dataframe\">\n  <thead>\n    <tr style=\"text-align: right;\">\n      <th></th>\n      <th>metric</th>\n      <th>threshold</th>\n      <th>value</th>\n      <th>idx</th>\n    </tr>\n  </thead>\n  <tbody>\n    <tr>\n      <th>0</th>\n      <td>max f1</td>\n      <td>0.527034</td>\n      <td>0.899217</td>\n      <td>256.0</td>\n    </tr>\n    <tr>\n      <th>1</th>\n      <td>max f2</td>\n      <td>0.268467</td>\n      <td>0.951053</td>\n      <td>341.0</td>\n    </tr>\n    <tr>\n      <th>2</th>\n      <td>max f0point5</td>\n      <td>0.736557</td>\n      <td>0.873269</td>\n      <td>167.0</td>\n    </tr>\n    <tr>\n      <th>3</th>\n      <td>max accuracy</td>\n      <td>0.587735</td>\n      <td>0.829508</td>\n      <td>233.0</td>\n    </tr>\n    <tr>\n      <th>4</th>\n      <td>max precision</td>\n      <td>0.952026</td>\n      <td>1.000000</td>\n      <td>0.0</td>\n    </tr>\n    <tr>\n      <th>5</th>\n      <td>max recall</td>\n      <td>0.065807</td>\n      <td>1.000000</td>\n      <td>397.0</td>\n    </tr>\n    <tr>\n      <th>6</th>\n      <td>max specificity</td>\n      <td>0.952026</td>\n      <td>1.000000</td>\n      <td>0.0</td>\n    </tr>\n    <tr>\n      <th>7</th>\n      <td>max absolute_mcc</td>\n      <td>0.644497</td>\n      <td>0.418259</td>\n      <td>207.0</td>\n    </tr>\n    <tr>\n      <th>8</th>\n      <td>max min_per_class_accuracy</td>\n      <td>0.824435</td>\n      <td>0.697730</td>\n      <td>107.0</td>\n    </tr>\n    <tr>\n      <th>9</th>\n      <td>max mean_per_class_accuracy</td>\n      <td>0.800090</td>\n      <td>0.708199</td>\n      <td>128.0</td>\n    </tr>\n    <tr>\n      <th>10</th>\n      <td>max tns</td>\n      <td>0.952026</td>\n      <td>17131.000000</td>\n      <td>0.0</td>\n    </tr>\n    <tr>\n      <th>11</th>\n      <td>max fns</td>\n      <td>0.952026</td>\n      <td>62839.000000</td>\n      <td>0.0</td>\n    </tr>\n    <tr>\n      <th>12</th>\n      <td>max fps</td>\n      <td>0.049679</td>\n      <td>17131.000000</td>\n      <td>399.0</td>\n    </tr>\n    <tr>\n      <th>13</th>\n      <td>max tps</td>\n      <td>0.065807</td>\n      <td>62861.000000</td>\n      <td>397.0</td>\n    </tr>\n    <tr>\n      <th>14</th>\n      <td>max tnr</td>\n      <td>0.952026</td>\n      <td>1.000000</td>\n      <td>0.0</td>\n    </tr>\n    <tr>\n      <th>15</th>\n      <td>max fnr</td>\n      <td>0.952026</td>\n      <td>0.999650</td>\n      <td>0.0</td>\n    </tr>\n    <tr>\n      <th>16</th>\n      <td>max fpr</td>\n      <td>0.049679</td>\n      <td>1.000000</td>\n      <td>399.0</td>\n    </tr>\n    <tr>\n      <th>17</th>\n      <td>max tpr</td>\n      <td>0.065807</td>\n      <td>1.000000</td>\n      <td>397.0</td>\n    </tr>\n  </tbody>\n</table>\n</div>"
     },
     "metadata": {},
     "output_type": "display_data"
    },
    {
     "name": "stdout",
     "output_type": "stream",
     "text": [
      "\n",
      "Gains/Lift Table: Avg response rate: 78.58 %, avg score: 78.57 %\n"
     ]
    },
    {
     "data": {
      "text/plain": "    group  cumulative_data_fraction  lower_threshold      lift  \\\n0       1                  0.010014         0.925071  1.255047   \n1       2                  0.020015         0.918354  1.239118   \n2       3                  0.030041         0.914395  1.236028   \n3       4                  0.040017         0.911995  1.200763   \n4       5                  0.050018         0.910264  1.210486   \n5       6                  0.100135         0.903173  1.192850   \n6       7                  0.150015         0.897408  1.168551   \n7       8                  0.200008         0.889871  1.168467   \n8       9                  0.300055         0.874648  1.154381   \n9      10                  0.400003         0.857089  1.123703   \n10     11                  0.500025         0.844739  1.104888   \n11     12                  0.600085         0.826558  1.075062   \n12     13                  0.700083         0.805284  1.050280   \n13     14                  0.799992         0.750291  0.969518   \n14     15                  0.900040         0.568869  0.780877   \n15     16                  1.000000         0.048232  0.361895   \n\n    cumulative_lift  response_rate     score  cumulative_response_rate  \\\n0          1.255047       0.986267  0.933300                  0.986267   \n1          1.247087       0.973750  0.921189                  0.980012   \n2          1.243396       0.971322  0.916349                  0.977112   \n3          1.232768       0.943609  0.913211                  0.968760   \n4          1.228313       0.951250  0.911105                  0.965259   \n5          1.210564       0.937391  0.906373                  0.951311   \n6          1.196595       0.918296  0.900175                  0.940333   \n7          1.189564       0.918230  0.894409                  0.934808   \n8          1.177833       0.907160  0.880898                  0.925590   \n9          1.164308       0.883052  0.867407                  0.914961   \n10         1.152422       0.868266  0.851127                  0.905620   \n11         1.139522       0.844828  0.835435                  0.895484   \n12         1.126775       0.825353  0.816459                  0.885466   \n13         1.107136       0.761887  0.784899                  0.870033   \n14         1.070869       0.613645  0.654201                  0.841533   \n15         1.000000       0.284392  0.356784                  0.785841   \n\n    cumulative_score  capture_rate  cumulative_capture_rate       gain  \\\n0           0.933300      0.012567                 0.012567  25.504658   \n1           0.927248      0.012392                 0.024960  23.911821   \n2           0.923611      0.012392                 0.037352  23.602814   \n3           0.921018      0.011979                 0.049331  20.076316   \n4           0.919036      0.012106                 0.061437  21.048647   \n5           0.912698      0.059783                 0.121220  19.285042   \n6           0.908534      0.058287                 0.179507  16.855145   \n7           0.905004      0.058415                 0.237922  16.846723   \n8           0.896966      0.115493                 0.353415  15.438074   \n9           0.889580      0.112311                 0.465726  12.370290   \n10          0.881888      0.110514                 0.576240  10.488811   \n11          0.874142      0.107571                 0.683810   7.506162   \n12          0.865903      0.105025                 0.788836   5.027999   \n13          0.855786      0.096865                 0.885700  -3.048224   \n14          0.833378      0.078125                 0.963825 -21.912344   \n15          0.785738      0.036175                 1.000000 -63.810470   \n\n    cumulative_gain  kolmogorov_smirnov  \n0         25.504658            0.011925  \n1         24.708737            0.023092  \n2         24.339636            0.034142  \n3         23.276803            0.043494  \n4         22.831283            0.053323  \n5         21.056392            0.098454  \n6         19.659477            0.137712  \n7         18.956421            0.177038  \n8         17.783297            0.249159  \n9         16.430764            0.306891  \n10        15.242165            0.355879  \n11        13.952240            0.390949  \n12        12.677531            0.414427  \n13        10.713563            0.400206  \n14         7.086901            0.297839  \n15         0.000000            0.000000  ",
      "text/html": "<div>\n<style scoped>\n    .dataframe tbody tr th:only-of-type {\n        vertical-align: middle;\n    }\n\n    .dataframe tbody tr th {\n        vertical-align: top;\n    }\n\n    .dataframe thead th {\n        text-align: right;\n    }\n</style>\n<table border=\"1\" class=\"dataframe\">\n  <thead>\n    <tr style=\"text-align: right;\">\n      <th></th>\n      <th>group</th>\n      <th>cumulative_data_fraction</th>\n      <th>lower_threshold</th>\n      <th>lift</th>\n      <th>cumulative_lift</th>\n      <th>response_rate</th>\n      <th>score</th>\n      <th>cumulative_response_rate</th>\n      <th>cumulative_score</th>\n      <th>capture_rate</th>\n      <th>cumulative_capture_rate</th>\n      <th>gain</th>\n      <th>cumulative_gain</th>\n      <th>kolmogorov_smirnov</th>\n    </tr>\n  </thead>\n  <tbody>\n    <tr>\n      <th>0</th>\n      <td>1</td>\n      <td>0.010014</td>\n      <td>0.925071</td>\n      <td>1.255047</td>\n      <td>1.255047</td>\n      <td>0.986267</td>\n      <td>0.933300</td>\n      <td>0.986267</td>\n      <td>0.933300</td>\n      <td>0.012567</td>\n      <td>0.012567</td>\n      <td>25.504658</td>\n      <td>25.504658</td>\n      <td>0.011925</td>\n    </tr>\n    <tr>\n      <th>1</th>\n      <td>2</td>\n      <td>0.020015</td>\n      <td>0.918354</td>\n      <td>1.239118</td>\n      <td>1.247087</td>\n      <td>0.973750</td>\n      <td>0.921189</td>\n      <td>0.980012</td>\n      <td>0.927248</td>\n      <td>0.012392</td>\n      <td>0.024960</td>\n      <td>23.911821</td>\n      <td>24.708737</td>\n      <td>0.023092</td>\n    </tr>\n    <tr>\n      <th>2</th>\n      <td>3</td>\n      <td>0.030041</td>\n      <td>0.914395</td>\n      <td>1.236028</td>\n      <td>1.243396</td>\n      <td>0.971322</td>\n      <td>0.916349</td>\n      <td>0.977112</td>\n      <td>0.923611</td>\n      <td>0.012392</td>\n      <td>0.037352</td>\n      <td>23.602814</td>\n      <td>24.339636</td>\n      <td>0.034142</td>\n    </tr>\n    <tr>\n      <th>3</th>\n      <td>4</td>\n      <td>0.040017</td>\n      <td>0.911995</td>\n      <td>1.200763</td>\n      <td>1.232768</td>\n      <td>0.943609</td>\n      <td>0.913211</td>\n      <td>0.968760</td>\n      <td>0.921018</td>\n      <td>0.011979</td>\n      <td>0.049331</td>\n      <td>20.076316</td>\n      <td>23.276803</td>\n      <td>0.043494</td>\n    </tr>\n    <tr>\n      <th>4</th>\n      <td>5</td>\n      <td>0.050018</td>\n      <td>0.910264</td>\n      <td>1.210486</td>\n      <td>1.228313</td>\n      <td>0.951250</td>\n      <td>0.911105</td>\n      <td>0.965259</td>\n      <td>0.919036</td>\n      <td>0.012106</td>\n      <td>0.061437</td>\n      <td>21.048647</td>\n      <td>22.831283</td>\n      <td>0.053323</td>\n    </tr>\n    <tr>\n      <th>5</th>\n      <td>6</td>\n      <td>0.100135</td>\n      <td>0.903173</td>\n      <td>1.192850</td>\n      <td>1.210564</td>\n      <td>0.937391</td>\n      <td>0.906373</td>\n      <td>0.951311</td>\n      <td>0.912698</td>\n      <td>0.059783</td>\n      <td>0.121220</td>\n      <td>19.285042</td>\n      <td>21.056392</td>\n      <td>0.098454</td>\n    </tr>\n    <tr>\n      <th>6</th>\n      <td>7</td>\n      <td>0.150015</td>\n      <td>0.897408</td>\n      <td>1.168551</td>\n      <td>1.196595</td>\n      <td>0.918296</td>\n      <td>0.900175</td>\n      <td>0.940333</td>\n      <td>0.908534</td>\n      <td>0.058287</td>\n      <td>0.179507</td>\n      <td>16.855145</td>\n      <td>19.659477</td>\n      <td>0.137712</td>\n    </tr>\n    <tr>\n      <th>7</th>\n      <td>8</td>\n      <td>0.200008</td>\n      <td>0.889871</td>\n      <td>1.168467</td>\n      <td>1.189564</td>\n      <td>0.918230</td>\n      <td>0.894409</td>\n      <td>0.934808</td>\n      <td>0.905004</td>\n      <td>0.058415</td>\n      <td>0.237922</td>\n      <td>16.846723</td>\n      <td>18.956421</td>\n      <td>0.177038</td>\n    </tr>\n    <tr>\n      <th>8</th>\n      <td>9</td>\n      <td>0.300055</td>\n      <td>0.874648</td>\n      <td>1.154381</td>\n      <td>1.177833</td>\n      <td>0.907160</td>\n      <td>0.880898</td>\n      <td>0.925590</td>\n      <td>0.896966</td>\n      <td>0.115493</td>\n      <td>0.353415</td>\n      <td>15.438074</td>\n      <td>17.783297</td>\n      <td>0.249159</td>\n    </tr>\n    <tr>\n      <th>9</th>\n      <td>10</td>\n      <td>0.400003</td>\n      <td>0.857089</td>\n      <td>1.123703</td>\n      <td>1.164308</td>\n      <td>0.883052</td>\n      <td>0.867407</td>\n      <td>0.914961</td>\n      <td>0.889580</td>\n      <td>0.112311</td>\n      <td>0.465726</td>\n      <td>12.370290</td>\n      <td>16.430764</td>\n      <td>0.306891</td>\n    </tr>\n    <tr>\n      <th>10</th>\n      <td>11</td>\n      <td>0.500025</td>\n      <td>0.844739</td>\n      <td>1.104888</td>\n      <td>1.152422</td>\n      <td>0.868266</td>\n      <td>0.851127</td>\n      <td>0.905620</td>\n      <td>0.881888</td>\n      <td>0.110514</td>\n      <td>0.576240</td>\n      <td>10.488811</td>\n      <td>15.242165</td>\n      <td>0.355879</td>\n    </tr>\n    <tr>\n      <th>11</th>\n      <td>12</td>\n      <td>0.600085</td>\n      <td>0.826558</td>\n      <td>1.075062</td>\n      <td>1.139522</td>\n      <td>0.844828</td>\n      <td>0.835435</td>\n      <td>0.895484</td>\n      <td>0.874142</td>\n      <td>0.107571</td>\n      <td>0.683810</td>\n      <td>7.506162</td>\n      <td>13.952240</td>\n      <td>0.390949</td>\n    </tr>\n    <tr>\n      <th>12</th>\n      <td>13</td>\n      <td>0.700083</td>\n      <td>0.805284</td>\n      <td>1.050280</td>\n      <td>1.126775</td>\n      <td>0.825353</td>\n      <td>0.816459</td>\n      <td>0.885466</td>\n      <td>0.865903</td>\n      <td>0.105025</td>\n      <td>0.788836</td>\n      <td>5.027999</td>\n      <td>12.677531</td>\n      <td>0.414427</td>\n    </tr>\n    <tr>\n      <th>13</th>\n      <td>14</td>\n      <td>0.799992</td>\n      <td>0.750291</td>\n      <td>0.969518</td>\n      <td>1.107136</td>\n      <td>0.761887</td>\n      <td>0.784899</td>\n      <td>0.870033</td>\n      <td>0.855786</td>\n      <td>0.096865</td>\n      <td>0.885700</td>\n      <td>-3.048224</td>\n      <td>10.713563</td>\n      <td>0.400206</td>\n    </tr>\n    <tr>\n      <th>14</th>\n      <td>15</td>\n      <td>0.900040</td>\n      <td>0.568869</td>\n      <td>0.780877</td>\n      <td>1.070869</td>\n      <td>0.613645</td>\n      <td>0.654201</td>\n      <td>0.841533</td>\n      <td>0.833378</td>\n      <td>0.078125</td>\n      <td>0.963825</td>\n      <td>-21.912344</td>\n      <td>7.086901</td>\n      <td>0.297839</td>\n    </tr>\n    <tr>\n      <th>15</th>\n      <td>16</td>\n      <td>1.000000</td>\n      <td>0.048232</td>\n      <td>0.361895</td>\n      <td>1.000000</td>\n      <td>0.284392</td>\n      <td>0.356784</td>\n      <td>0.785841</td>\n      <td>0.785738</td>\n      <td>0.036175</td>\n      <td>1.000000</td>\n      <td>-63.810470</td>\n      <td>0.000000</td>\n      <td>0.000000</td>\n    </tr>\n  </tbody>\n</table>\n</div>"
     },
     "metadata": {},
     "output_type": "display_data"
    },
    {
     "name": "stdout",
     "output_type": "stream",
     "text": [
      "\n",
      "\n",
      "ModelMetricsBinomial: gbm\n",
      "** Reported on validation data. **\n",
      "\n",
      "MSE: 0.16702675167057898\n",
      "RMSE: 0.4086890647797895\n",
      "LogLoss: 0.5166125543011013\n",
      "Mean Per-Class Error: 0.46296820768192243\n",
      "AUC: 0.6161364288422755\n",
      "AUCPR: 0.8139424591501248\n",
      "Gini: 0.23227285768455097\n",
      "\n",
      "Confusion Matrix (Act/Pred) for max f1 @ threshold = 0.45931625811239496: \n"
     ]
    },
    {
     "data": {
      "text/plain": "              0        1   Error               Rate\n0      0  384.0   4276.0  0.9176    (4276.0/4660.0)\n1      1  128.0  15220.0  0.0083    (128.0/15348.0)\n2  Total  512.0  19496.0  0.2201   (4404.0/20008.0)",
      "text/html": "<div>\n<style scoped>\n    .dataframe tbody tr th:only-of-type {\n        vertical-align: middle;\n    }\n\n    .dataframe tbody tr th {\n        vertical-align: top;\n    }\n\n    .dataframe thead th {\n        text-align: right;\n    }\n</style>\n<table border=\"1\" class=\"dataframe\">\n  <thead>\n    <tr style=\"text-align: right;\">\n      <th></th>\n      <th></th>\n      <th>0</th>\n      <th>1</th>\n      <th>Error</th>\n      <th>Rate</th>\n    </tr>\n  </thead>\n  <tbody>\n    <tr>\n      <th>0</th>\n      <td>0</td>\n      <td>384.0</td>\n      <td>4276.0</td>\n      <td>0.9176</td>\n      <td>(4276.0/4660.0)</td>\n    </tr>\n    <tr>\n      <th>1</th>\n      <td>1</td>\n      <td>128.0</td>\n      <td>15220.0</td>\n      <td>0.0083</td>\n      <td>(128.0/15348.0)</td>\n    </tr>\n    <tr>\n      <th>2</th>\n      <td>Total</td>\n      <td>512.0</td>\n      <td>19496.0</td>\n      <td>0.2201</td>\n      <td>(4404.0/20008.0)</td>\n    </tr>\n  </tbody>\n</table>\n</div>"
     },
     "metadata": {},
     "output_type": "display_data"
    },
    {
     "name": "stdout",
     "output_type": "stream",
     "text": [
      "\n",
      "Maximum Metrics: Maximum metrics at their respective thresholds\n"
     ]
    },
    {
     "data": {
      "text/plain": "                         metric  threshold         value    idx\n0                        max f1   0.459316      0.873608  292.0\n1                        max f2   0.268408      0.942886  347.0\n2                  max f0point5   0.765918      0.830179  163.0\n3                  max accuracy   0.632496      0.784036  221.0\n4                 max precision   0.902818      1.000000    0.0\n5                    max recall   0.059845      1.000000  399.0\n6               max specificity   0.902818      1.000000    0.0\n7              max absolute_mcc   0.750033      0.270509  172.0\n8    max min_per_class_accuracy   0.834895      0.569313   83.0\n9   max mean_per_class_accuracy   0.790481      0.602411  145.0\n10                      max tns   0.902818   4660.000000    0.0\n11                      max fns   0.902818  15347.000000    0.0\n12                      max fps   0.059845   4660.000000  399.0\n13                      max tps   0.059845  15348.000000  399.0\n14                      max tnr   0.902818      1.000000    0.0\n15                      max fnr   0.902818      0.999935    0.0\n16                      max fpr   0.059845      1.000000  399.0\n17                      max tpr   0.059845      1.000000  399.0",
      "text/html": "<div>\n<style scoped>\n    .dataframe tbody tr th:only-of-type {\n        vertical-align: middle;\n    }\n\n    .dataframe tbody tr th {\n        vertical-align: top;\n    }\n\n    .dataframe thead th {\n        text-align: right;\n    }\n</style>\n<table border=\"1\" class=\"dataframe\">\n  <thead>\n    <tr style=\"text-align: right;\">\n      <th></th>\n      <th>metric</th>\n      <th>threshold</th>\n      <th>value</th>\n      <th>idx</th>\n    </tr>\n  </thead>\n  <tbody>\n    <tr>\n      <th>0</th>\n      <td>max f1</td>\n      <td>0.459316</td>\n      <td>0.873608</td>\n      <td>292.0</td>\n    </tr>\n    <tr>\n      <th>1</th>\n      <td>max f2</td>\n      <td>0.268408</td>\n      <td>0.942886</td>\n      <td>347.0</td>\n    </tr>\n    <tr>\n      <th>2</th>\n      <td>max f0point5</td>\n      <td>0.765918</td>\n      <td>0.830179</td>\n      <td>163.0</td>\n    </tr>\n    <tr>\n      <th>3</th>\n      <td>max accuracy</td>\n      <td>0.632496</td>\n      <td>0.784036</td>\n      <td>221.0</td>\n    </tr>\n    <tr>\n      <th>4</th>\n      <td>max precision</td>\n      <td>0.902818</td>\n      <td>1.000000</td>\n      <td>0.0</td>\n    </tr>\n    <tr>\n      <th>5</th>\n      <td>max recall</td>\n      <td>0.059845</td>\n      <td>1.000000</td>\n      <td>399.0</td>\n    </tr>\n    <tr>\n      <th>6</th>\n      <td>max specificity</td>\n      <td>0.902818</td>\n      <td>1.000000</td>\n      <td>0.0</td>\n    </tr>\n    <tr>\n      <th>7</th>\n      <td>max absolute_mcc</td>\n      <td>0.750033</td>\n      <td>0.270509</td>\n      <td>172.0</td>\n    </tr>\n    <tr>\n      <th>8</th>\n      <td>max min_per_class_accuracy</td>\n      <td>0.834895</td>\n      <td>0.569313</td>\n      <td>83.0</td>\n    </tr>\n    <tr>\n      <th>9</th>\n      <td>max mean_per_class_accuracy</td>\n      <td>0.790481</td>\n      <td>0.602411</td>\n      <td>145.0</td>\n    </tr>\n    <tr>\n      <th>10</th>\n      <td>max tns</td>\n      <td>0.902818</td>\n      <td>4660.000000</td>\n      <td>0.0</td>\n    </tr>\n    <tr>\n      <th>11</th>\n      <td>max fns</td>\n      <td>0.902818</td>\n      <td>15347.000000</td>\n      <td>0.0</td>\n    </tr>\n    <tr>\n      <th>12</th>\n      <td>max fps</td>\n      <td>0.059845</td>\n      <td>4660.000000</td>\n      <td>399.0</td>\n    </tr>\n    <tr>\n      <th>13</th>\n      <td>max tps</td>\n      <td>0.059845</td>\n      <td>15348.000000</td>\n      <td>399.0</td>\n    </tr>\n    <tr>\n      <th>14</th>\n      <td>max tnr</td>\n      <td>0.902818</td>\n      <td>1.000000</td>\n      <td>0.0</td>\n    </tr>\n    <tr>\n      <th>15</th>\n      <td>max fnr</td>\n      <td>0.902818</td>\n      <td>0.999935</td>\n      <td>0.0</td>\n    </tr>\n    <tr>\n      <th>16</th>\n      <td>max fpr</td>\n      <td>0.059845</td>\n      <td>1.000000</td>\n      <td>399.0</td>\n    </tr>\n    <tr>\n      <th>17</th>\n      <td>max tpr</td>\n      <td>0.059845</td>\n      <td>1.000000</td>\n      <td>399.0</td>\n    </tr>\n  </tbody>\n</table>\n</div>"
     },
     "metadata": {},
     "output_type": "display_data"
    },
    {
     "name": "stdout",
     "output_type": "stream",
     "text": [
      "\n",
      "Gains/Lift Table: Avg response rate: 76.71 %, avg score: 80.92 %\n"
     ]
    },
    {
     "data": {
      "text/plain": "    group  cumulative_data_fraction  lower_threshold      lift  \\\n0       1                  0.010046         0.882908  1.134995   \n1       2                  0.020092         0.875996  1.024738   \n2       3                  0.044582         0.873617  1.048219   \n3       4                  0.053079         0.871717  0.981551   \n4       5                  0.110056         0.867069  1.058907   \n5       6                  0.154338         0.863193  1.077034   \n6       7                  0.206767         0.858838  1.065019   \n7       8                  0.300130         0.855122  1.074721   \n8       9                  0.405338         0.849397  1.060238   \n9      10                  0.500000         0.837672  1.057215   \n10     11                  0.600310         0.829650  1.062644   \n11     12                  0.700920         0.821287  1.046525   \n12     13                  0.802429         0.809798  1.036608   \n13     14                  0.900040         0.734965  0.976549   \n14     15                  1.000000         0.059346  0.560558   \n\n    cumulative_lift  response_rate     score  cumulative_response_rate  \\\n0          1.134995       0.870647  0.889106                  0.870647   \n1          1.079867       0.786070  0.878952                  0.828358   \n2          1.062482       0.804082  0.873984                  0.815022   \n3          1.049527       0.752941  0.872084                  0.805085   \n4          1.054383       0.812281  0.869057                  0.808810   \n5          1.060882       0.826185  0.864890                  0.813795   \n6          1.061931       0.816969  0.861009                  0.814600   \n7          1.065910       0.824411  0.856942                  0.817652   \n8          1.064438       0.813302  0.851804                  0.816523   \n9          1.063070       0.810982  0.844024                  0.815474   \n10         1.062999       0.815147  0.833868                  0.815419   \n11         1.060634       0.802782  0.824466                  0.813605   \n12         1.057595       0.795175  0.815447                  0.811274   \n13         1.048805       0.749104  0.793567                  0.804531   \n14         1.000000       0.430000  0.532962                  0.767093   \n\n    cumulative_score  capture_rate  cumulative_capture_rate       gain  \\\n0           0.889106      0.011402                 0.011402  13.499482   \n1           0.884029      0.010295                 0.021697   2.473818   \n2           0.878511      0.025671                 0.047368   4.821901   \n3           0.877482      0.008340                 0.055708  -1.844885   \n4           0.873120      0.060334                 0.116041   5.890750   \n5           0.870759      0.047694                 0.163735   7.703359   \n6           0.868287      0.055838                 0.219573   6.501867   \n7           0.864758      0.100339                 0.319911   7.472101   \n8           0.861395      0.111545                 0.431457   6.023845   \n9           0.858107      0.100078                 0.531535   5.721454   \n10          0.854056      0.106594                 0.638129   6.264405   \n11          0.849809      0.105291                 0.743419   4.652467   \n12          0.845462      0.105225                 0.848645   3.660785   \n13          0.839834      0.095322                 0.943967  -2.345115   \n14          0.809159      0.056033                 1.000000 -43.944227   \n\n    cumulative_gain  kolmogorov_smirnov  \n0         13.499482            0.005823  \n1          7.986650            0.006890  \n2          6.248167            0.011960  \n3          4.952669            0.011287  \n4          5.438324            0.025698  \n5          6.088201            0.040344  \n6          6.193092            0.054980  \n7          6.590959            0.084933  \n8          6.443761            0.112144  \n9          6.307011            0.135398  \n10         6.299891            0.162378  \n11         6.063421            0.182475  \n12         5.759481            0.198430  \n13         4.880523            0.188602  \n14         0.000000            0.000000  ",
      "text/html": "<div>\n<style scoped>\n    .dataframe tbody tr th:only-of-type {\n        vertical-align: middle;\n    }\n\n    .dataframe tbody tr th {\n        vertical-align: top;\n    }\n\n    .dataframe thead th {\n        text-align: right;\n    }\n</style>\n<table border=\"1\" class=\"dataframe\">\n  <thead>\n    <tr style=\"text-align: right;\">\n      <th></th>\n      <th>group</th>\n      <th>cumulative_data_fraction</th>\n      <th>lower_threshold</th>\n      <th>lift</th>\n      <th>cumulative_lift</th>\n      <th>response_rate</th>\n      <th>score</th>\n      <th>cumulative_response_rate</th>\n      <th>cumulative_score</th>\n      <th>capture_rate</th>\n      <th>cumulative_capture_rate</th>\n      <th>gain</th>\n      <th>cumulative_gain</th>\n      <th>kolmogorov_smirnov</th>\n    </tr>\n  </thead>\n  <tbody>\n    <tr>\n      <th>0</th>\n      <td>1</td>\n      <td>0.010046</td>\n      <td>0.882908</td>\n      <td>1.134995</td>\n      <td>1.134995</td>\n      <td>0.870647</td>\n      <td>0.889106</td>\n      <td>0.870647</td>\n      <td>0.889106</td>\n      <td>0.011402</td>\n      <td>0.011402</td>\n      <td>13.499482</td>\n      <td>13.499482</td>\n      <td>0.005823</td>\n    </tr>\n    <tr>\n      <th>1</th>\n      <td>2</td>\n      <td>0.020092</td>\n      <td>0.875996</td>\n      <td>1.024738</td>\n      <td>1.079867</td>\n      <td>0.786070</td>\n      <td>0.878952</td>\n      <td>0.828358</td>\n      <td>0.884029</td>\n      <td>0.010295</td>\n      <td>0.021697</td>\n      <td>2.473818</td>\n      <td>7.986650</td>\n      <td>0.006890</td>\n    </tr>\n    <tr>\n      <th>2</th>\n      <td>3</td>\n      <td>0.044582</td>\n      <td>0.873617</td>\n      <td>1.048219</td>\n      <td>1.062482</td>\n      <td>0.804082</td>\n      <td>0.873984</td>\n      <td>0.815022</td>\n      <td>0.878511</td>\n      <td>0.025671</td>\n      <td>0.047368</td>\n      <td>4.821901</td>\n      <td>6.248167</td>\n      <td>0.011960</td>\n    </tr>\n    <tr>\n      <th>3</th>\n      <td>4</td>\n      <td>0.053079</td>\n      <td>0.871717</td>\n      <td>0.981551</td>\n      <td>1.049527</td>\n      <td>0.752941</td>\n      <td>0.872084</td>\n      <td>0.805085</td>\n      <td>0.877482</td>\n      <td>0.008340</td>\n      <td>0.055708</td>\n      <td>-1.844885</td>\n      <td>4.952669</td>\n      <td>0.011287</td>\n    </tr>\n    <tr>\n      <th>4</th>\n      <td>5</td>\n      <td>0.110056</td>\n      <td>0.867069</td>\n      <td>1.058907</td>\n      <td>1.054383</td>\n      <td>0.812281</td>\n      <td>0.869057</td>\n      <td>0.808810</td>\n      <td>0.873120</td>\n      <td>0.060334</td>\n      <td>0.116041</td>\n      <td>5.890750</td>\n      <td>5.438324</td>\n      <td>0.025698</td>\n    </tr>\n    <tr>\n      <th>5</th>\n      <td>6</td>\n      <td>0.154338</td>\n      <td>0.863193</td>\n      <td>1.077034</td>\n      <td>1.060882</td>\n      <td>0.826185</td>\n      <td>0.864890</td>\n      <td>0.813795</td>\n      <td>0.870759</td>\n      <td>0.047694</td>\n      <td>0.163735</td>\n      <td>7.703359</td>\n      <td>6.088201</td>\n      <td>0.040344</td>\n    </tr>\n    <tr>\n      <th>6</th>\n      <td>7</td>\n      <td>0.206767</td>\n      <td>0.858838</td>\n      <td>1.065019</td>\n      <td>1.061931</td>\n      <td>0.816969</td>\n      <td>0.861009</td>\n      <td>0.814600</td>\n      <td>0.868287</td>\n      <td>0.055838</td>\n      <td>0.219573</td>\n      <td>6.501867</td>\n      <td>6.193092</td>\n      <td>0.054980</td>\n    </tr>\n    <tr>\n      <th>7</th>\n      <td>8</td>\n      <td>0.300130</td>\n      <td>0.855122</td>\n      <td>1.074721</td>\n      <td>1.065910</td>\n      <td>0.824411</td>\n      <td>0.856942</td>\n      <td>0.817652</td>\n      <td>0.864758</td>\n      <td>0.100339</td>\n      <td>0.319911</td>\n      <td>7.472101</td>\n      <td>6.590959</td>\n      <td>0.084933</td>\n    </tr>\n    <tr>\n      <th>8</th>\n      <td>9</td>\n      <td>0.405338</td>\n      <td>0.849397</td>\n      <td>1.060238</td>\n      <td>1.064438</td>\n      <td>0.813302</td>\n      <td>0.851804</td>\n      <td>0.816523</td>\n      <td>0.861395</td>\n      <td>0.111545</td>\n      <td>0.431457</td>\n      <td>6.023845</td>\n      <td>6.443761</td>\n      <td>0.112144</td>\n    </tr>\n    <tr>\n      <th>9</th>\n      <td>10</td>\n      <td>0.500000</td>\n      <td>0.837672</td>\n      <td>1.057215</td>\n      <td>1.063070</td>\n      <td>0.810982</td>\n      <td>0.844024</td>\n      <td>0.815474</td>\n      <td>0.858107</td>\n      <td>0.100078</td>\n      <td>0.531535</td>\n      <td>5.721454</td>\n      <td>6.307011</td>\n      <td>0.135398</td>\n    </tr>\n    <tr>\n      <th>10</th>\n      <td>11</td>\n      <td>0.600310</td>\n      <td>0.829650</td>\n      <td>1.062644</td>\n      <td>1.062999</td>\n      <td>0.815147</td>\n      <td>0.833868</td>\n      <td>0.815419</td>\n      <td>0.854056</td>\n      <td>0.106594</td>\n      <td>0.638129</td>\n      <td>6.264405</td>\n      <td>6.299891</td>\n      <td>0.162378</td>\n    </tr>\n    <tr>\n      <th>11</th>\n      <td>12</td>\n      <td>0.700920</td>\n      <td>0.821287</td>\n      <td>1.046525</td>\n      <td>1.060634</td>\n      <td>0.802782</td>\n      <td>0.824466</td>\n      <td>0.813605</td>\n      <td>0.849809</td>\n      <td>0.105291</td>\n      <td>0.743419</td>\n      <td>4.652467</td>\n      <td>6.063421</td>\n      <td>0.182475</td>\n    </tr>\n    <tr>\n      <th>12</th>\n      <td>13</td>\n      <td>0.802429</td>\n      <td>0.809798</td>\n      <td>1.036608</td>\n      <td>1.057595</td>\n      <td>0.795175</td>\n      <td>0.815447</td>\n      <td>0.811274</td>\n      <td>0.845462</td>\n      <td>0.105225</td>\n      <td>0.848645</td>\n      <td>3.660785</td>\n      <td>5.759481</td>\n      <td>0.198430</td>\n    </tr>\n    <tr>\n      <th>13</th>\n      <td>14</td>\n      <td>0.900040</td>\n      <td>0.734965</td>\n      <td>0.976549</td>\n      <td>1.048805</td>\n      <td>0.749104</td>\n      <td>0.793567</td>\n      <td>0.804531</td>\n      <td>0.839834</td>\n      <td>0.095322</td>\n      <td>0.943967</td>\n      <td>-2.345115</td>\n      <td>4.880523</td>\n      <td>0.188602</td>\n    </tr>\n    <tr>\n      <th>14</th>\n      <td>15</td>\n      <td>1.000000</td>\n      <td>0.059346</td>\n      <td>0.560558</td>\n      <td>1.000000</td>\n      <td>0.430000</td>\n      <td>0.532962</td>\n      <td>0.767093</td>\n      <td>0.809159</td>\n      <td>0.056033</td>\n      <td>1.000000</td>\n      <td>-43.944227</td>\n      <td>0.000000</td>\n      <td>0.000000</td>\n    </tr>\n  </tbody>\n</table>\n</div>"
     },
     "metadata": {},
     "output_type": "display_data"
    },
    {
     "name": "stdout",
     "output_type": "stream",
     "text": [
      "\n",
      "\n",
      "Scoring History: \n"
     ]
    },
    {
     "data": {
      "text/plain": "               timestamp    duration  number_of_trees  training_rmse  \\\n0    2022-05-25 16:11:44   0.003 sec              0.0       0.410238   \n1    2022-05-25 16:11:44   0.096 sec             10.0       0.378922   \n2    2022-05-25 16:11:44   0.188 sec             20.0       0.370371   \n3    2022-05-25 16:11:45   0.323 sec             30.0       0.366882   \n4    2022-05-25 16:11:45   0.457 sec             40.0       0.364583   \n5    2022-05-25 16:11:45   0.553 sec             50.0       0.361880   \n\n   training_logloss  training_auc  training_pr_auc  training_lift  \\\n0          0.519415      0.500000         0.785841       1.000000   \n1          0.456027      0.738113         0.892783       1.229748   \n2          0.439853      0.747508         0.897608       1.229859   \n3          0.433010      0.754446         0.901176       1.239733   \n4          0.428173      0.762348         0.905554       1.250308   \n5          0.422531      0.773403         0.910887       1.255047   \n\n   training_classification_error  validation_rmse  validation_logloss  \\\n0                       0.214159         0.423099            0.543788   \n1                       0.182081         0.411394            0.519999   \n2                       0.176818         0.409348            0.517033   \n3                       0.175893         0.408871            0.516586   \n4                       0.174117         0.408982            0.517169   \n5                       0.171630         0.408689            0.516613   \n\n   validation_auc  validation_pr_auc  validation_lift  \\\n0        0.500000           0.767093         1.000000   \n1        0.602428           0.806377         1.050615   \n2        0.610503           0.809318         1.038944   \n3        0.611240           0.812058         1.142902   \n4        0.613924           0.812089         1.070138   \n5        0.616136           0.813942         1.134995   \n\n   validation_classification_error  \n0                         0.232907  \n1                         0.222111  \n2                         0.220662  \n3                         0.220412  \n4                         0.220312  \n5                         0.220112  ",
      "text/html": "<div>\n<style scoped>\n    .dataframe tbody tr th:only-of-type {\n        vertical-align: middle;\n    }\n\n    .dataframe tbody tr th {\n        vertical-align: top;\n    }\n\n    .dataframe thead th {\n        text-align: right;\n    }\n</style>\n<table border=\"1\" class=\"dataframe\">\n  <thead>\n    <tr style=\"text-align: right;\">\n      <th></th>\n      <th></th>\n      <th>timestamp</th>\n      <th>duration</th>\n      <th>number_of_trees</th>\n      <th>training_rmse</th>\n      <th>training_logloss</th>\n      <th>training_auc</th>\n      <th>training_pr_auc</th>\n      <th>training_lift</th>\n      <th>training_classification_error</th>\n      <th>validation_rmse</th>\n      <th>validation_logloss</th>\n      <th>validation_auc</th>\n      <th>validation_pr_auc</th>\n      <th>validation_lift</th>\n      <th>validation_classification_error</th>\n    </tr>\n  </thead>\n  <tbody>\n    <tr>\n      <th>0</th>\n      <td></td>\n      <td>2022-05-25 16:11:44</td>\n      <td>0.003 sec</td>\n      <td>0.0</td>\n      <td>0.410238</td>\n      <td>0.519415</td>\n      <td>0.500000</td>\n      <td>0.785841</td>\n      <td>1.000000</td>\n      <td>0.214159</td>\n      <td>0.423099</td>\n      <td>0.543788</td>\n      <td>0.500000</td>\n      <td>0.767093</td>\n      <td>1.000000</td>\n      <td>0.232907</td>\n    </tr>\n    <tr>\n      <th>1</th>\n      <td></td>\n      <td>2022-05-25 16:11:44</td>\n      <td>0.096 sec</td>\n      <td>10.0</td>\n      <td>0.378922</td>\n      <td>0.456027</td>\n      <td>0.738113</td>\n      <td>0.892783</td>\n      <td>1.229748</td>\n      <td>0.182081</td>\n      <td>0.411394</td>\n      <td>0.519999</td>\n      <td>0.602428</td>\n      <td>0.806377</td>\n      <td>1.050615</td>\n      <td>0.222111</td>\n    </tr>\n    <tr>\n      <th>2</th>\n      <td></td>\n      <td>2022-05-25 16:11:44</td>\n      <td>0.188 sec</td>\n      <td>20.0</td>\n      <td>0.370371</td>\n      <td>0.439853</td>\n      <td>0.747508</td>\n      <td>0.897608</td>\n      <td>1.229859</td>\n      <td>0.176818</td>\n      <td>0.409348</td>\n      <td>0.517033</td>\n      <td>0.610503</td>\n      <td>0.809318</td>\n      <td>1.038944</td>\n      <td>0.220662</td>\n    </tr>\n    <tr>\n      <th>3</th>\n      <td></td>\n      <td>2022-05-25 16:11:45</td>\n      <td>0.323 sec</td>\n      <td>30.0</td>\n      <td>0.366882</td>\n      <td>0.433010</td>\n      <td>0.754446</td>\n      <td>0.901176</td>\n      <td>1.239733</td>\n      <td>0.175893</td>\n      <td>0.408871</td>\n      <td>0.516586</td>\n      <td>0.611240</td>\n      <td>0.812058</td>\n      <td>1.142902</td>\n      <td>0.220412</td>\n    </tr>\n    <tr>\n      <th>4</th>\n      <td></td>\n      <td>2022-05-25 16:11:45</td>\n      <td>0.457 sec</td>\n      <td>40.0</td>\n      <td>0.364583</td>\n      <td>0.428173</td>\n      <td>0.762348</td>\n      <td>0.905554</td>\n      <td>1.250308</td>\n      <td>0.174117</td>\n      <td>0.408982</td>\n      <td>0.517169</td>\n      <td>0.613924</td>\n      <td>0.812089</td>\n      <td>1.070138</td>\n      <td>0.220312</td>\n    </tr>\n    <tr>\n      <th>5</th>\n      <td></td>\n      <td>2022-05-25 16:11:45</td>\n      <td>0.553 sec</td>\n      <td>50.0</td>\n      <td>0.361880</td>\n      <td>0.422531</td>\n      <td>0.773403</td>\n      <td>0.910887</td>\n      <td>1.255047</td>\n      <td>0.171630</td>\n      <td>0.408689</td>\n      <td>0.516613</td>\n      <td>0.616136</td>\n      <td>0.813942</td>\n      <td>1.134995</td>\n      <td>0.220112</td>\n    </tr>\n  </tbody>\n</table>\n</div>"
     },
     "metadata": {},
     "output_type": "display_data"
    },
    {
     "name": "stdout",
     "output_type": "stream",
     "text": [
      "\n",
      "Variable Importances: \n"
     ]
    },
    {
     "data": {
      "text/plain": "                 variable  relative_importance  scaled_importance  percentage\n0    HelpfulnessNumerator          6629.697754           1.000000    0.430967\n1  HelpfulnessDenominator          5733.745117           0.864858    0.372725\n2                    Time          1460.428345           0.220286    0.094936\n3               ProductId          1310.930908           0.197736    0.085218\n4                  UserId           248.504898           0.037484    0.016154",
      "text/html": "<div>\n<style scoped>\n    .dataframe tbody tr th:only-of-type {\n        vertical-align: middle;\n    }\n\n    .dataframe tbody tr th {\n        vertical-align: top;\n    }\n\n    .dataframe thead th {\n        text-align: right;\n    }\n</style>\n<table border=\"1\" class=\"dataframe\">\n  <thead>\n    <tr style=\"text-align: right;\">\n      <th></th>\n      <th>variable</th>\n      <th>relative_importance</th>\n      <th>scaled_importance</th>\n      <th>percentage</th>\n    </tr>\n  </thead>\n  <tbody>\n    <tr>\n      <th>0</th>\n      <td>HelpfulnessNumerator</td>\n      <td>6629.697754</td>\n      <td>1.000000</td>\n      <td>0.430967</td>\n    </tr>\n    <tr>\n      <th>1</th>\n      <td>HelpfulnessDenominator</td>\n      <td>5733.745117</td>\n      <td>0.864858</td>\n      <td>0.372725</td>\n    </tr>\n    <tr>\n      <th>2</th>\n      <td>Time</td>\n      <td>1460.428345</td>\n      <td>0.220286</td>\n      <td>0.094936</td>\n    </tr>\n    <tr>\n      <th>3</th>\n      <td>ProductId</td>\n      <td>1310.930908</td>\n      <td>0.197736</td>\n      <td>0.085218</td>\n    </tr>\n    <tr>\n      <th>4</th>\n      <td>UserId</td>\n      <td>248.504898</td>\n      <td>0.037484</td>\n      <td>0.016154</td>\n    </tr>\n  </tbody>\n</table>\n</div>"
     },
     "metadata": {},
     "output_type": "display_data"
    },
    {
     "data": {
      "text/plain": ""
     },
     "execution_count": 11,
     "metadata": {},
     "output_type": "execute_result"
    }
   ],
   "source": [
    "from h2o.estimators import H2OGradientBoostingEstimator\n",
    "\n",
    "predictors = ['ProductId', 'UserId', 'HelpfulnessNumerator', 'HelpfulnessDenominator', 'Time']\n",
    "response = 'PositiveReview'\n",
    "\n",
    "gbm_baseline = H2OGradientBoostingEstimator(stopping_metric = \"AUC\", stopping_tolerance = 0.001,\n",
    "                                            stopping_rounds = 5, score_tree_interval = 10,\n",
    "                                            model_id = \"gbm_baseline.hex\"\n",
    "                                           )\n",
    "gbm_baseline.train(x = predictors, y = response, \n",
    "                   training_frame = train, validation_frame = test\n",
    "                  )"
   ]
  },
  {
   "cell_type": "code",
   "execution_count": 12,
   "metadata": {
    "pycharm": {
     "name": "#%%\n"
    }
   },
   "outputs": [
    {
     "name": "stdout",
     "output_type": "stream",
     "text": [
      "AUC on Validation Data: 0.616\n"
     ]
    }
   ],
   "source": [
    "print(\"AUC on Validation Data: \" + str(round(gbm_baseline.auc(valid = True), 3)))"
   ]
  },
  {
   "cell_type": "markdown",
   "metadata": {
    "pycharm": {
     "name": "#%% md\n"
    }
   },
   "source": [
    "We can see that there is a big room for improvement.  Our error is 22%.  To improve our model, we will train word embeddings for the review."
   ]
  },
  {
   "cell_type": "code",
   "execution_count": 13,
   "metadata": {
    "pycharm": {
     "name": "#%%\n"
    }
   },
   "outputs": [
    {
     "name": "stdout",
     "output_type": "stream",
     "text": [
      "\n",
      "Confusion Matrix (Act/Pred) for max f1 @ threshold = 0.45931625811239496: \n"
     ]
    },
    {
     "data": {
      "text/plain": "              0        1   Error               Rate\n0      0  384.0   4276.0  0.9176    (4276.0/4660.0)\n1      1  128.0  15220.0  0.0083    (128.0/15348.0)\n2  Total  512.0  19496.0  0.2201   (4404.0/20008.0)",
      "text/html": "<div>\n<style scoped>\n    .dataframe tbody tr th:only-of-type {\n        vertical-align: middle;\n    }\n\n    .dataframe tbody tr th {\n        vertical-align: top;\n    }\n\n    .dataframe thead th {\n        text-align: right;\n    }\n</style>\n<table border=\"1\" class=\"dataframe\">\n  <thead>\n    <tr style=\"text-align: right;\">\n      <th></th>\n      <th></th>\n      <th>0</th>\n      <th>1</th>\n      <th>Error</th>\n      <th>Rate</th>\n    </tr>\n  </thead>\n  <tbody>\n    <tr>\n      <th>0</th>\n      <td>0</td>\n      <td>384.0</td>\n      <td>4276.0</td>\n      <td>0.9176</td>\n      <td>(4276.0/4660.0)</td>\n    </tr>\n    <tr>\n      <th>1</th>\n      <td>1</td>\n      <td>128.0</td>\n      <td>15220.0</td>\n      <td>0.0083</td>\n      <td>(128.0/15348.0)</td>\n    </tr>\n    <tr>\n      <th>2</th>\n      <td>Total</td>\n      <td>512.0</td>\n      <td>19496.0</td>\n      <td>0.2201</td>\n      <td>(4404.0/20008.0)</td>\n    </tr>\n  </tbody>\n</table>\n</div>"
     },
     "metadata": {},
     "output_type": "display_data"
    },
    {
     "data": {
      "text/plain": ""
     },
     "execution_count": 13,
     "metadata": {},
     "output_type": "execute_result"
    }
   ],
   "source": [
    "gbm_baseline.confusion_matrix(valid = True)"
   ]
  },
  {
   "cell_type": "markdown",
   "metadata": {
    "pycharm": {
     "name": "#%% md\n"
    }
   },
   "source": [
    "The variable importance plot below shows us that the most important variable is `HelpfulnessNumerator`.  Looking at the partial dependency plot for that variable, we see that the more people who find the review helpful, the more likely it is a good review."
   ]
  },
  {
   "cell_type": "code",
   "execution_count": 14,
   "metadata": {
    "pycharm": {
     "name": "#%%\n"
    }
   },
   "outputs": [
    {
     "data": {
      "text/plain": "<Figure size 1008x720 with 1 Axes>",
      "image/png": "[encoded data removed]"
     },
     "metadata": {
      "needs_background": "light"
     },
     "output_type": "display_data"
    },
    {
     "data": {
      "text/plain": "<h2o.plot._plot_result._MObject at 0x7f6418146220>"
     },
     "execution_count": 14,
     "metadata": {},
     "output_type": "execute_result"
    },
    {
     "data": {
      "text/plain": "<Figure size 432x288 with 0 Axes>"
     },
     "metadata": {},
     "output_type": "display_data"
    }
   ],
   "source": [
    "gbm_baseline.varimp_plot()"
   ]
  },
  {
   "cell_type": "code",
   "execution_count": 15,
   "metadata": {
    "pycharm": {
     "name": "#%%\n"
    }
   },
   "outputs": [
    {
     "name": "stdout",
     "output_type": "stream",
     "text": [
      "PartialDependencePlot progress: |████████████████████████████████████████████████| (done) 100%\n"
     ]
    },
    {
     "data": {
      "text/plain": "<Figure size 504x720 with 1 Axes>",
      "image/png": "[encoded data removed]"
     },
     "metadata": {
      "needs_background": "light"
     },
     "output_type": "display_data"
    }
   ],
   "source": [
    "%matplotlib inline  \n",
    "pdp_helpfulness = gbm_baseline.partial_plot(train, cols = [\"HelpfulnessNumerator\"])"
   ]
  },
  {
   "cell_type": "markdown",
   "metadata": {
    "pycharm": {
     "name": "#%% md\n"
    }
   },
   "source": [
    "## Tokenize Words in Review\n",
    "\n",
    "Our first step will be to tokenize the words in the review column. We will do this by creating a function called `tokenize`.  This will split the reviews into words and remove any stop words, small words, or words with numbers in them."
   ]
  },
  {
   "cell_type": "code",
   "execution_count": 16,
   "metadata": {
    "pycharm": {
     "name": "#%%\n"
    }
   },
   "outputs": [],
   "source": [
    "# Set Stop Words\n",
    "# The STOP WORDS we are importing are from the nltk package\n",
    "import pandas as pd\n",
    "import os\n",
    "\n",
    "# Use local data file or download from GitHub\n",
    "docker_data_path = \"/home/h2o/data/nlp/stopwords.csv\"\n",
    "if os.path.isfile(docker_data_path):\n",
    "  data_path = docker_data_path\n",
    "else:\n",
    "  data_path = \"https://raw.githubusercontent.com/h2oai/h2o-tutorials/master/h2o-world-2017/nlp/stopwords.csv\"\n",
    "\n",
    "STOP_WORDS = pd.read_csv(data_path, header=0)\n",
    "STOP_WORDS = list(STOP_WORDS['STOP_WORD'])"
   ]
  },
  {
   "cell_type": "code",
   "execution_count": 17,
   "metadata": {
    "pycharm": {
     "name": "#%%\n"
    }
   },
   "outputs": [],
   "source": [
    "def tokenize(sentences, stop_word = STOP_WORDS):\n",
    "    tokenized = sentences.tokenize(\"\\\\W+\")\n",
    "    tokenized_lower = tokenized.tolower()\n",
    "    tokenized_filtered = tokenized_lower[(tokenized_lower.nchar() >= 2) | (tokenized_lower.isna()),:]\n",
    "    tokenized_words = tokenized_filtered[tokenized_filtered.grep(\"[0-9]\",invert=True,output_logical=True),:]\n",
    "    tokenized_words = tokenized_words[(tokenized_words.isna()) | (~ tokenized_words.isin(STOP_WORDS)),:]\n",
    "    return tokenized_words"
   ]
  },
  {
   "cell_type": "code",
   "execution_count": 18,
   "metadata": {
    "pycharm": {
     "name": "#%%\n"
    }
   },
   "outputs": [],
   "source": [
    "# Break reviews into sequence of words\n",
    "words = tokenize(reviews[\"Text\"])"
   ]
  },
  {
   "cell_type": "code",
   "execution_count": 19,
   "metadata": {
    "pycharm": {
     "name": "#%%\n"
    }
   },
   "outputs": [
    {
     "data": {
      "text/plain": "(4154796, 1)"
     },
     "execution_count": 19,
     "metadata": {},
     "output_type": "execute_result"
    }
   ],
   "source": [
    "words.shape"
   ]
  },
  {
   "cell_type": "markdown",
   "metadata": {
    "pycharm": {
     "name": "#%% md\n"
    }
   },
   "source": [
    "## Train Word2Vec Model\n",
    "\n",
    "Now that we've tokenized our words, we can train a word2vec model.  We can use the `find_synonms` function to sanity check our word2vec model after training."
   ]
  },
  {
   "cell_type": "code",
   "execution_count": 20,
   "metadata": {
    "pycharm": {
     "name": "#%%\n"
    }
   },
   "outputs": [],
   "source": [
    "model_name = \"w2v_h2o\""
   ]
  },
  {
   "cell_type": "code",
   "execution_count": 21,
   "metadata": {
    "pycharm": {
     "name": "#%%\n"
    }
   },
   "outputs": [
    {
     "name": "stdout",
     "output_type": "stream",
     "text": [
      "word2vec Model Build progress: |█████████████████████████████████████████████████| (done) 100%\n",
      "Model Details\n",
      "=============\n",
      "H2OWord2vecEstimator :  Word2Vec\n",
      "Model Key:  w2v_h2o\n",
      "\n",
      "No model summary for this model\n"
     ]
    },
    {
     "data": {
      "text/plain": ""
     },
     "execution_count": 21,
     "metadata": {},
     "output_type": "execute_result"
    }
   ],
   "source": [
    "# Train Word2Vec Model\n",
    "from h2o.estimators.word2vec import H2OWord2vecEstimator\n",
    "\n",
    "# This takes time to run - left commented out\n",
    "w2v_model = H2OWord2vecEstimator(vec_size = 100, model_id = model_name)\n",
    "w2v_model.train(training_frame=words)\n",
    "\n",
    "# Pre-trained model available on s3: https://s3.amazonaws.com/tomk/h2o-world/megan/w2v.hex\n",
    "#w2v_model = h2o.load_model(\"/home/h2o/data/megan/w2v.hex\")"
   ]
  },
  {
   "cell_type": "code",
   "execution_count": 22,
   "metadata": {
    "pycharm": {
     "name": "#%%\n"
    }
   },
   "outputs": [],
   "source": [
    "#save model\n",
    "model_file = w2v_model.download_mojo(path = ARTIFACTS_PATH + \"/\", get_genmodel_jar = False)"
   ]
  },
  {
   "cell_type": "code",
   "execution_count": 23,
   "metadata": {
    "pycharm": {
     "name": "#%%\n"
    }
   },
   "outputs": [
    {
     "data": {
      "text/plain": "OrderedDict([('coffe', 0.8110815286636353),\n             ('espresso', 0.7782745957374573),\n             ('coffees', 0.7435689568519592),\n             ('expresso', 0.7354498505592346),\n             ('folgers', 0.7242841720581055)])"
     },
     "execution_count": 23,
     "metadata": {},
     "output_type": "execute_result"
    }
   ],
   "source": [
    "# Sanity check - find synonyms for the word 'coffee'\n",
    "w2v_model.find_synonyms(\"coffee\", count = 5)"
   ]
  },
  {
   "cell_type": "code",
   "execution_count": 24,
   "metadata": {
    "pycharm": {
     "name": "#%%\n"
    }
   },
   "outputs": [
    {
     "data": {
      "text/plain": "OrderedDict([('moldy', 0.7223275899887085),\n             ('rancid', 0.7063090801239014),\n             ('inedible', 0.6635894775390625),\n             ('unedible', 0.6437413692474365),\n             ('expired', 0.6282831430435181)])"
     },
     "execution_count": 24,
     "metadata": {},
     "output_type": "execute_result"
    }
   ],
   "source": [
    "# Sanity check - find synonyms for the word 'stale'\n",
    "w2v_model.find_synonyms(\"stale\", count = 5)"
   ]
  },
  {
   "cell_type": "markdown",
   "metadata": {
    "pycharm": {
     "name": "#%% md\n"
    }
   },
   "source": [
    "Now that we have a word embedding for each word in our vocabulary, we will aggregate the words for each review using the `transform` function.  This will give us one aggregated word embedding for each review."
   ]
  },
  {
   "cell_type": "code",
   "execution_count": 37,
   "metadata": {
    "pycharm": {
     "name": "#%%\n"
    }
   },
   "outputs": [
    {
     "name": "stdout",
     "output_type": "stream",
     "text": [
      "Parse progress: |████████████████████████████████████████████████████████████████| (done) 100%\n"
     ]
    },
    {
     "data": {
      "text/html": "<table>\n<thead>\n<tr><th>C1       </th></tr>\n</thead>\n<tbody>\n<tr><td>china    </td></tr>\n<tr><td>made     </td></tr>\n<tr><td>         </td></tr>\n<tr><td>customize</td></tr>\n<tr><td>products </td></tr>\n<tr><td>         </td></tr>\n</tbody>\n</table>"
     },
     "metadata": {},
     "output_type": "display_data"
    },
    {
     "name": "stdout",
     "output_type": "stream",
     "text": [
      "\n"
     ]
    }
   ],
   "source": [
    "from random import random\n",
    "\n",
    "# Calculate a vector for each review\n",
    "sstr = [\"china made\", \"customize products\"]\n",
    "h2oframe = h2o.H2OFrame(python_obj=sstr)\n",
    "\n",
    "worddd = tokenize(h2oframe)\n",
    "print(worddd)\n",
    "\n",
    "\n",
    "\n",
    "review_vecs = w2v_model.transform(worddd, aggregate_method = \"AVERAGE\")"
   ]
  },
  {
   "cell_type": "code",
   "execution_count": 38,
   "metadata": {
    "pycharm": {
     "name": "#%%\n"
    }
   },
   "outputs": [
    {
     "data": {
      "text/html": "<table>\n<thead>\n<tr><th style=\"text-align: right;\">        C1</th><th style=\"text-align: right;\">       C2</th><th style=\"text-align: right;\">        C3</th><th style=\"text-align: right;\">      C4</th><th style=\"text-align: right;\">         C5</th><th style=\"text-align: right;\">        C6</th><th style=\"text-align: right;\">        C7</th><th style=\"text-align: right;\">       C8</th><th style=\"text-align: right;\">        C9</th><th style=\"text-align: right;\">       C10</th><th style=\"text-align: right;\">      C11</th><th style=\"text-align: right;\">       C12</th><th style=\"text-align: right;\">       C13</th><th style=\"text-align: right;\">      C14</th><th style=\"text-align: right;\">        C15</th><th style=\"text-align: right;\">      C16</th><th style=\"text-align: right;\">      C17</th><th style=\"text-align: right;\">       C18</th><th style=\"text-align: right;\">      C19</th><th style=\"text-align: right;\">       C20</th><th style=\"text-align: right;\">      C21</th><th style=\"text-align: right;\">       C22</th><th style=\"text-align: right;\">      C23</th><th style=\"text-align: right;\">       C24</th><th style=\"text-align: right;\">      C25</th><th style=\"text-align: right;\">       C26</th><th style=\"text-align: right;\">       C27</th><th style=\"text-align: right;\">       C28</th><th style=\"text-align: right;\">      C29</th><th style=\"text-align: right;\">     C30</th><th style=\"text-align: right;\">      C31</th><th style=\"text-align: right;\">       C32</th><th style=\"text-align: right;\">       C33</th><th style=\"text-align: right;\">     C34</th><th style=\"text-align: right;\">        C35</th><th style=\"text-align: right;\">       C36</th><th style=\"text-align: right;\">     C37</th><th style=\"text-align: right;\">       C38</th><th style=\"text-align: right;\">       C39</th><th style=\"text-align: right;\">       C40</th><th style=\"text-align: right;\">     C41</th><th style=\"text-align: right;\">       C42</th><th style=\"text-align: right;\">       C43</th><th style=\"text-align: right;\">     C44</th><th style=\"text-align: right;\">      C45</th><th style=\"text-align: right;\">     C46</th><th style=\"text-align: right;\">       C47</th><th style=\"text-align: right;\">      C48</th><th style=\"text-align: right;\">        C49</th><th style=\"text-align: right;\">       C50</th><th style=\"text-align: right;\">       C51</th><th style=\"text-align: right;\">      C52</th><th style=\"text-align: right;\">      C53</th><th style=\"text-align: right;\">      C54</th><th style=\"text-align: right;\">     C55</th><th style=\"text-align: right;\">      C56</th><th style=\"text-align: right;\">      C57</th><th style=\"text-align: right;\">       C58</th><th style=\"text-align: right;\">       C59</th><th style=\"text-align: right;\">      C60</th><th style=\"text-align: right;\">      C61</th><th style=\"text-align: right;\">       C62</th><th style=\"text-align: right;\">      C63</th><th style=\"text-align: right;\">       C64</th><th style=\"text-align: right;\">       C65</th><th style=\"text-align: right;\">       C66</th><th style=\"text-align: right;\">      C67</th><th style=\"text-align: right;\">        C68</th><th style=\"text-align: right;\">       C69</th><th style=\"text-align: right;\">      C70</th><th style=\"text-align: right;\">      C71</th><th style=\"text-align: right;\">       C72</th><th style=\"text-align: right;\">      C73</th><th style=\"text-align: right;\">       C74</th><th style=\"text-align: right;\">     C75</th><th style=\"text-align: right;\">        C76</th><th style=\"text-align: right;\">      C77</th><th style=\"text-align: right;\">      C78</th><th style=\"text-align: right;\">      C79</th><th style=\"text-align: right;\">      C80</th><th style=\"text-align: right;\">       C81</th><th style=\"text-align: right;\">      C82</th><th style=\"text-align: right;\">     C83</th><th style=\"text-align: right;\">      C84</th><th style=\"text-align: right;\">       C85</th><th style=\"text-align: right;\">      C86</th><th style=\"text-align: right;\">        C87</th><th style=\"text-align: right;\">       C88</th><th style=\"text-align: right;\">       C89</th><th style=\"text-align: right;\">       C90</th><th style=\"text-align: right;\">       C91</th><th style=\"text-align: right;\">      C92</th><th style=\"text-align: right;\">      C93</th><th style=\"text-align: right;\">      C94</th><th style=\"text-align: right;\">       C95</th><th style=\"text-align: right;\">     C96</th><th style=\"text-align: right;\">       C97</th><th style=\"text-align: right;\">      C98</th><th style=\"text-align: right;\">     C99</th><th style=\"text-align: right;\">      C100</th></tr>\n</thead>\n<tbody>\n<tr><td style=\"text-align: right;\">-0.0816077</td><td style=\"text-align: right;\">0.214889 </td><td style=\"text-align: right;\">-0.307657 </td><td style=\"text-align: right;\">0.113978</td><td style=\"text-align: right;\"> 0.00027057</td><td style=\"text-align: right;\"> 0.138412 </td><td style=\"text-align: right;\">0.00691679</td><td style=\"text-align: right;\">0.36561  </td><td style=\"text-align: right;\"> 0.278528 </td><td style=\"text-align: right;\">-0.0540835</td><td style=\"text-align: right;\"> 0.153812</td><td style=\"text-align: right;\">-0.0860648</td><td style=\"text-align: right;\"> 0.0203943</td><td style=\"text-align: right;\">-0.322637</td><td style=\"text-align: right;\">-0.00573067</td><td style=\"text-align: right;\">0.230636 </td><td style=\"text-align: right;\">-0.103212</td><td style=\"text-align: right;\"> 0.213941 </td><td style=\"text-align: right;\">-0.16556 </td><td style=\"text-align: right;\"> 0.139192 </td><td style=\"text-align: right;\">0.0693622</td><td style=\"text-align: right;\"> 0.250769 </td><td style=\"text-align: right;\"> 0.272027</td><td style=\"text-align: right;\">-0.08715  </td><td style=\"text-align: right;\">-0.10553 </td><td style=\"text-align: right;\">-0.297414 </td><td style=\"text-align: right;\"> 0.0546593</td><td style=\"text-align: right;\">-0.0949512</td><td style=\"text-align: right;\">0.116673 </td><td style=\"text-align: right;\">0.189249</td><td style=\"text-align: right;\">0.110142 </td><td style=\"text-align: right;\">-0.308488 </td><td style=\"text-align: right;\"> 0.105003 </td><td style=\"text-align: right;\">0.10036 </td><td style=\"text-align: right;\">-0.00881984</td><td style=\"text-align: right;\">-0.282222 </td><td style=\"text-align: right;\">0.17145 </td><td style=\"text-align: right;\"> 0.115448 </td><td style=\"text-align: right;\">-0.0996504</td><td style=\"text-align: right;\"> 0.0997609</td><td style=\"text-align: right;\">0.483123</td><td style=\"text-align: right;\">-0.194344 </td><td style=\"text-align: right;\"> 0.0474723</td><td style=\"text-align: right;\">0.273722</td><td style=\"text-align: right;\">0.371998 </td><td style=\"text-align: right;\">0.524123</td><td style=\"text-align: right;\">-0.0320062</td><td style=\"text-align: right;\">0.307905 </td><td style=\"text-align: right;\">-0.130628  </td><td style=\"text-align: right;\">-0.0106966</td><td style=\"text-align: right;\">0.00992888</td><td style=\"text-align: right;\">0.198041 </td><td style=\"text-align: right;\">0.191829 </td><td style=\"text-align: right;\">-0.213074</td><td style=\"text-align: right;\">0.171478</td><td style=\"text-align: right;\">0.0338113</td><td style=\"text-align: right;\">-0.456074</td><td style=\"text-align: right;\"> 0.0580885</td><td style=\"text-align: right;\">-0.216214 </td><td style=\"text-align: right;\">-0.352708</td><td style=\"text-align: right;\">-0.194515</td><td style=\"text-align: right;\">-0.203572 </td><td style=\"text-align: right;\">0.231888 </td><td style=\"text-align: right;\"> 0.0527101</td><td style=\"text-align: right;\">-0.28966  </td><td style=\"text-align: right;\"> 0.0649091</td><td style=\"text-align: right;\">-0.1052  </td><td style=\"text-align: right;\"> 0.00142777</td><td style=\"text-align: right;\">-0.0299432</td><td style=\"text-align: right;\">0.0786715</td><td style=\"text-align: right;\">-0.123208</td><td style=\"text-align: right;\">-0.150016 </td><td style=\"text-align: right;\">-0.281049</td><td style=\"text-align: right;\">-0.0702727</td><td style=\"text-align: right;\">0.293717</td><td style=\"text-align: right;\">-0.100326  </td><td style=\"text-align: right;\">0.113266 </td><td style=\"text-align: right;\">0.105386 </td><td style=\"text-align: right;\">0.0229311</td><td style=\"text-align: right;\">-0.377291</td><td style=\"text-align: right;\">-0.159523 </td><td style=\"text-align: right;\">0.262679 </td><td style=\"text-align: right;\">0.307532</td><td style=\"text-align: right;\"> 0.183813</td><td style=\"text-align: right;\"> 0.092173 </td><td style=\"text-align: right;\">-0.32188 </td><td style=\"text-align: right;\">-0.00128596</td><td style=\"text-align: right;\">-0.217639 </td><td style=\"text-align: right;\">-0.450734 </td><td style=\"text-align: right;\">-0.0783577</td><td style=\"text-align: right;\">-0.0639362</td><td style=\"text-align: right;\"> 0.221463</td><td style=\"text-align: right;\">0.22869  </td><td style=\"text-align: right;\">-0.251199</td><td style=\"text-align: right;\">-0.18105  </td><td style=\"text-align: right;\">0.117042</td><td style=\"text-align: right;\"> 0.39287  </td><td style=\"text-align: right;\">0.0719734</td><td style=\"text-align: right;\">0.101399</td><td style=\"text-align: right;\">0.0811238 </td></tr>\n<tr><td style=\"text-align: right;\">-0.542093 </td><td style=\"text-align: right;\">0.0287305</td><td style=\"text-align: right;\">-0.0715067</td><td style=\"text-align: right;\">0.130877</td><td style=\"text-align: right;\">-0.0786903 </td><td style=\"text-align: right;\">-0.0800896</td><td style=\"text-align: right;\">0.213474  </td><td style=\"text-align: right;\">0.0526528</td><td style=\"text-align: right;\">-0.0768262</td><td style=\"text-align: right;\"> 0.302959 </td><td style=\"text-align: right;\">-0.143485</td><td style=\"text-align: right;\"> 0.0433302</td><td style=\"text-align: right;\">-0.0244515</td><td style=\"text-align: right;\">-0.250103</td><td style=\"text-align: right;\">-0.00719982</td><td style=\"text-align: right;\">0.0839543</td><td style=\"text-align: right;\">-0.171316</td><td style=\"text-align: right;\">-0.0265685</td><td style=\"text-align: right;\">-0.039793</td><td style=\"text-align: right;\">-0.0999562</td><td style=\"text-align: right;\">0.077055 </td><td style=\"text-align: right;\">-0.0680511</td><td style=\"text-align: right;\">-0.115671</td><td style=\"text-align: right;\"> 0.0482465</td><td style=\"text-align: right;\"> 0.077714</td><td style=\"text-align: right;\">-0.0572347</td><td style=\"text-align: right;\">-0.15163  </td><td style=\"text-align: right;\">-0.0305565</td><td style=\"text-align: right;\">0.0127482</td><td style=\"text-align: right;\">0.109133</td><td style=\"text-align: right;\">0.0636291</td><td style=\"text-align: right;\"> 0.0251258</td><td style=\"text-align: right;\">-0.0646952</td><td style=\"text-align: right;\">0.371928</td><td style=\"text-align: right;\">-0.0642786 </td><td style=\"text-align: right;\">-0.0932554</td><td style=\"text-align: right;\">0.117289</td><td style=\"text-align: right;\">-0.0942678</td><td style=\"text-align: right;\"> 0.0760709</td><td style=\"text-align: right;\">-0.0941605</td><td style=\"text-align: right;\">0.173358</td><td style=\"text-align: right;\">-0.0810103</td><td style=\"text-align: right;\">-0.0202513</td><td style=\"text-align: right;\">0.049358</td><td style=\"text-align: right;\">0.0596398</td><td style=\"text-align: right;\">0.178157</td><td style=\"text-align: right;\">-0.0469513</td><td style=\"text-align: right;\">0.0447995</td><td style=\"text-align: right;\">-0.00165783</td><td style=\"text-align: right;\"> 0.150459 </td><td style=\"text-align: right;\">0.207618  </td><td style=\"text-align: right;\">0.0366321</td><td style=\"text-align: right;\">0.0203057</td><td style=\"text-align: right;\">-0.255318</td><td style=\"text-align: right;\">0.149172</td><td style=\"text-align: right;\">0.300996 </td><td style=\"text-align: right;\">-0.137496</td><td style=\"text-align: right;\">-0.119603 </td><td style=\"text-align: right;\">-0.0431783</td><td style=\"text-align: right;\"> 0.013205</td><td style=\"text-align: right;\">-0.117686</td><td style=\"text-align: right;\">-0.0827614</td><td style=\"text-align: right;\">0.0827395</td><td style=\"text-align: right;\">-0.0815991</td><td style=\"text-align: right;\">-0.0129945</td><td style=\"text-align: right;\">-0.0371696</td><td style=\"text-align: right;\">-0.190237</td><td style=\"text-align: right;\">-0.173469  </td><td style=\"text-align: right;\">-0.106007 </td><td style=\"text-align: right;\">0.105588 </td><td style=\"text-align: right;\"> 0.103356</td><td style=\"text-align: right;\">-0.0749166</td><td style=\"text-align: right;\"> 0.171426</td><td style=\"text-align: right;\">-0.0778559</td><td style=\"text-align: right;\">0.228072</td><td style=\"text-align: right;\"> 0.00200307</td><td style=\"text-align: right;\">0.0646572</td><td style=\"text-align: right;\">0.0496543</td><td style=\"text-align: right;\">0.0624498</td><td style=\"text-align: right;\">-0.260267</td><td style=\"text-align: right;\">-0.0167242</td><td style=\"text-align: right;\">0.0974978</td><td style=\"text-align: right;\">0.165607</td><td style=\"text-align: right;\">-0.100675</td><td style=\"text-align: right;\">-0.0053649</td><td style=\"text-align: right;\">-0.133288</td><td style=\"text-align: right;\"> 0.0513312 </td><td style=\"text-align: right;\"> 0.0345764</td><td style=\"text-align: right;\">-0.0731594</td><td style=\"text-align: right;\">-0.0258986</td><td style=\"text-align: right;\"> 0.133958 </td><td style=\"text-align: right;\">-0.104151</td><td style=\"text-align: right;\">0.0740616</td><td style=\"text-align: right;\">-0.120769</td><td style=\"text-align: right;\">-0.0825723</td><td style=\"text-align: right;\">0.159589</td><td style=\"text-align: right;\">-0.0856584</td><td style=\"text-align: right;\">0.0190439</td><td style=\"text-align: right;\">0.113556</td><td style=\"text-align: right;\">0.00573282</td></tr>\n</tbody>\n</table>"
     },
     "metadata": {},
     "output_type": "display_data"
    },
    {
     "data": {
      "text/plain": ""
     },
     "execution_count": 38,
     "metadata": {},
     "output_type": "execute_result"
    }
   ],
   "source": [
    "review_vecs"
   ]
  },
  {
   "cell_type": "code",
   "execution_count": null,
   "metadata": {
    "pycharm": {
     "name": "#%%\n"
    }
   },
   "outputs": [],
   "source": [
    "# Add aggregated word embeddings \n",
    "ext_reviews = reviews.cbind(review_vecs)\n",
    "ext_reviews.head()"
   ]
  },
  {
   "cell_type": "markdown",
   "metadata": {
    "pycharm": {
     "name": "#%% md\n"
    }
   },
   "source": [
    "## Train GBM Model to Predict Good Review\n",
    "\n",
    "We will train a GBM model with the same parameters as our baseline gbm.  This time, however, we will add the aggregated word embeddings as predictors. "
   ]
  },
  {
   "cell_type": "code",
   "execution_count": null,
   "metadata": {
    "pycharm": {
     "name": "#%%\n"
    }
   },
   "outputs": [],
   "source": [
    "ext_train = ext_reviews[ext_reviews[\"Train\"] == \"Yes\"]\n",
    "ext_test = ext_reviews[ext_reviews[\"Train\"] == \"No\"]\n",
    "\n",
    "ext_train.head()"
   ]
  },
  {
   "cell_type": "code",
   "execution_count": null,
   "metadata": {
    "pycharm": {
     "name": "#%%\n"
    }
   },
   "outputs": [],
   "source": [
    "predictors = predictors + review_vecs.names\n",
    "response = 'PositiveReview'\n",
    "\n",
    "gbm_embeddings = H2OGradientBoostingEstimator(stopping_metric = \"AUC\", stopping_tolerance = 0.001,\n",
    "                                              stopping_rounds = 5, score_tree_interval = 10,\n",
    "                                              model_id = \"gbm_embeddings.hex\"\n",
    "                                             )\n",
    "gbm_embeddings.train(x = predictors, y = response, \n",
    "                   training_frame = ext_train, validation_frame = ext_test\n",
    "                  )"
   ]
  },
  {
   "cell_type": "code",
   "execution_count": null,
   "metadata": {
    "pycharm": {
     "name": "#%%\n"
    }
   },
   "outputs": [],
   "source": [
    "print(\"Baseline AUC: \" + str(round(gbm_baseline.auc(valid = True), 3)))\n",
    "print(\"With Embeddings AUC: \" + str(round(gbm_embeddings.auc(valid = True), 3)))"
   ]
  },
  {
   "cell_type": "code",
   "execution_count": null,
   "metadata": {
    "pycharm": {
     "name": "#%%\n"
    }
   },
   "outputs": [],
   "source": [
    "gbm_embeddings.confusion_matrix(valid = True)"
   ]
  },
  {
   "cell_type": "markdown",
   "metadata": {
    "pycharm": {
     "name": "#%% md\n"
    }
   },
   "source": [
    "## Adding Summary\n",
    "\n",
    "We saw that the review column is not the only column with text.  We also have a column called `Summary` which summarizes the review.  We will add the word embeddings of the summary to see if this improves our model."
   ]
  },
  {
   "cell_type": "code",
   "execution_count": null,
   "metadata": {
    "pycharm": {
     "name": "#%%\n"
    }
   },
   "outputs": [],
   "source": [
    "# Break summaries into sequence of words\n",
    "summary_words = tokenize(reviews[\"Summary\"].ascharacter())"
   ]
  },
  {
   "cell_type": "code",
   "execution_count": null,
   "metadata": {
    "pycharm": {
     "name": "#%%\n"
    }
   },
   "outputs": [],
   "source": [
    "# Add aggregated summary word embeddings\n",
    "summary_vecs = w2v_model.transform(summary_words, aggregate_method = \"AVERAGE\")\n",
    "summary_vecs.names = [\"summary_\" + s for s in summary_vecs.names]\n",
    "\n",
    "ext_reviews = ext_reviews.cbind(summary_vecs)"
   ]
  },
  {
   "cell_type": "code",
   "execution_count": null,
   "metadata": {
    "pycharm": {
     "name": "#%%\n"
    }
   },
   "outputs": [],
   "source": [
    "ext_train = ext_reviews[ext_reviews[\"Train\"] == \"Yes\"]\n",
    "ext_test = ext_reviews[ext_reviews[\"Train\"] == \"No\"]"
   ]
  },
  {
   "cell_type": "code",
   "execution_count": null,
   "metadata": {
    "pycharm": {
     "name": "#%%\n"
    }
   },
   "outputs": [],
   "source": [
    "predictors = predictors + summary_vecs.names\n",
    "response = 'PositiveReview'\n",
    "\n",
    "gbm_plus_summary = H2OGradientBoostingEstimator(stopping_metric = \"AUC\", stopping_tolerance = 0.001,\n",
    "                                              stopping_rounds = 5, score_tree_interval = 10,\n",
    "                                              model_id = \"gbm_plus_summary.hex\"\n",
    "                                             )\n",
    "gbm_plus_summary.train(x = predictors, y = response, \n",
    "                       training_frame = ext_train, validation_frame = ext_test\n",
    "                      )"
   ]
  },
  {
   "cell_type": "code",
   "execution_count": null,
   "metadata": {
    "pycharm": {
     "name": "#%%\n"
    }
   },
   "outputs": [],
   "source": [
    "print(\"Baseline AUC: \" + str(round(gbm_baseline.auc(valid = True), 3)))\n",
    "print(\"With Embeddings AUC: \" + str(round(gbm_embeddings.auc(valid = True), 3)))\n",
    "print(\"With Summary and Review Embeddings AUC: \" + str(round(gbm_plus_summary.auc(valid = True), 3)))"
   ]
  },
  {
   "cell_type": "code",
   "execution_count": null,
   "metadata": {
    "pycharm": {
     "name": "#%%\n"
    }
   },
   "outputs": [],
   "source": [
    "gbm_plus_summary.varimp_plot()"
   ]
  },
  {
   "cell_type": "code",
   "execution_count": null,
   "metadata": {
    "pycharm": {
     "name": "#%%\n"
    }
   },
   "outputs": [],
   "source": [
    "pdp_word_vecs = gbm_plus_summary.partial_plot(data = ext_train, cols = [\"C43\"])"
   ]
  },
  {
   "cell_type": "markdown",
   "metadata": {
    "pycharm": {
     "name": "#%% md\n"
    }
   },
   "source": [
    "We can see that a low `C43` is associated with a smaller probability of positive review.  Let's see what words have a low `C43` value."
   ]
  },
  {
   "cell_type": "code",
   "execution_count": null,
   "metadata": {
    "pycharm": {
     "name": "#%%\n"
    }
   },
   "outputs": [],
   "source": [
    "# Get Word Embeddings per Word\n",
    "unique_words = words.asfactor().unique().ascharacter()\n",
    "unique_words.col_names = [\"Word\"]\n",
    "word_embeddings = w2v_model.transform(unique_words, aggregate_method=\"None\")\n",
    "word_embeddings = unique_words.cbind(word_embeddings)\n",
    "word_embeddings = word_embeddings[~(word_embeddings[\"C1\"].isna())]"
   ]
  },
  {
   "cell_type": "code",
   "execution_count": null,
   "metadata": {
    "pycharm": {
     "name": "#%%\n"
    },
    "scrolled": true
   },
   "outputs": [],
   "source": [
    "word_embeddings[\"C43\"].hist()"
   ]
  },
  {
   "cell_type": "code",
   "execution_count": null,
   "metadata": {
    "pycharm": {
     "name": "#%%\n"
    },
    "scrolled": true
   },
   "outputs": [],
   "source": [
    "low_c43_words = word_embeddings[word_embeddings[\"C43\"] < -1.1]\n",
    "low_c43_words[[\"Word\", \"C43\"]].head(15)"
   ]
  },
  {
   "cell_type": "markdown",
   "metadata": {
    "pycharm": {
     "name": "#%% md\n"
    }
   },
   "source": [
    "The words with low `C43` like `contacted`, `answered`, `emails`, `phone` and `refund` all seem to be related to contacting for a refund.  Words like: `salmonella` are obviously an indicator of a negative review for a food product."
   ]
  },
  {
   "cell_type": "markdown",
   "metadata": {
    "pycharm": {
     "name": "#%% md\n"
    }
   },
   "source": [
    "## Predict on New Reviews\n",
    "\n",
    "Now that we've built a model we are satisifed with, we will see how the model performs on new reviews.\n",
    "\n",
    "* *\"The taste is great! especially when you cook it with some vegetable and egg. I like it very much, though it's more expensive than the other noodles\"*\n",
    "\n",
    "\n",
    "* *\"Quite tasteless and they make you order so many. I am stuck with 12 bags of this tasteless stuff. I am not ordering large amounts of anything from Amazon again. So often I don't like it and I am stuck with so much on hand.\"*"
   ]
  },
  {
   "cell_type": "code",
   "execution_count": null,
   "metadata": {
    "pycharm": {
     "name": "#%%\n"
    }
   },
   "outputs": [],
   "source": [
    "def predict(reviews, w2v, gbm):\n",
    "    \n",
    "    words = tokenize(reviews[\"Text\"].ascharacter())\n",
    "    reviews_vec = w2v.transform(words, aggregate_method=\"AVERAGE\")\n",
    "    \n",
    "    summary_words = tokenize(reviews[\"Summary\"].ascharacter())\n",
    "    summary_vec = w2v.transform(summary_words, aggregate_method=\"AVERAGE\")\n",
    "    \n",
    "    model_data = reviews.cbind(reviews_vec).cbind(summary_vec)\n",
    "    print(gbm.predict(model_data))"
   ]
  },
  {
   "cell_type": "code",
   "execution_count": null,
   "metadata": {
    "pycharm": {
     "name": "#%%\n"
    }
   },
   "outputs": [],
   "source": [
    "good_review = h2o.H2OFrame([[\"B000EQT574\", \"AISQLBDGS2KXR\", 1, 1, 1263340800, \n",
    "                             \"Delicious\",\n",
    "                             \"These chips are delicious. Salty sweet with a hint of spice. I have no idea how Tamari is supposed to taste, but these chips are awesome. I just finished an entire bag in one day!\"]])\n",
    "\n",
    "good_review.col_names = [\"ProductId\",\"UserId\",\"HelpfulnessNumerator\",\"HelpfulnessDenominator\",\"Time\",\"Summary\",\"Text\"]"
   ]
  },
  {
   "cell_type": "code",
   "execution_count": null,
   "metadata": {
    "pycharm": {
     "name": "#%%\n"
    }
   },
   "outputs": [],
   "source": [
    "bad_review = h2o.H2OFrame([[\"B003BJZMSM\", \"A2JBZHQVQF7MV0\", 1, 2, 1274832000, \n",
    "                            \"Pretty tasteless\",\n",
    "                            \"Quite tasteless and they make you order so many. I am stuck with 12 bags of this tasteless stuff. I am not ordering large amounts of anything from Amazon again. So often I don't like it and I am stuck with so much on hand.\"]])\n",
    "\n",
    "bad_review.col_names = [\"ProductId\",\"UserId\",\"HelpfulnessNumerator\",\"HelpfulnessDenominator\",\"Time\",\"Summary\",\"Text\"]"
   ]
  },
  {
   "cell_type": "code",
   "execution_count": null,
   "metadata": {
    "pycharm": {
     "name": "#%%\n"
    }
   },
   "outputs": [],
   "source": [
    "# Predict!\n",
    "print(\"Good Review: \")\n",
    "print(predict(good_review, w2v_model, gbm_embeddings))\n",
    "\n",
    "print(\"Bad Review: \")\n",
    "print(predict(bad_review, w2v_model, gbm_embeddings))"
   ]
  },
  {
   "cell_type": "code",
   "execution_count": null,
   "metadata": {
    "pycharm": {
     "name": "#%%\n"
    }
   },
   "outputs": [],
   "source": [
    "h2o.cluster().shutdown()"
   ]
  }
 ],
 "metadata": {
  "kernelspec": {
   "display_name": "Python 3",
   "language": "python",
   "name": "python3"
  },
  "language_info": {
   "codemirror_mode": {
    "name": "ipython",
    "version": 3
   },
   "file_extension": ".py",
   "mimetype": "text/x-python",
   "name": "python",
   "nbconvert_exporter": "python",
   "pygments_lexer": "ipython3",
   "version": "3.8.10"
  }
 },
 "nbformat": 4,
 "nbformat_minor": 2
}