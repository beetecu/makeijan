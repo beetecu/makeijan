{
 "cells": [
  {
   "cell_type": "markdown",
   "metadata": {
    "pycharm": {
     "name": "#%% md\n"
    }
   },
   "source": [
    "# Predicting System Failure"
   ]
  },
  {
   "cell_type": "markdown",
   "metadata": {
    "pycharm": {
     "name": "#%% md\n"
    }
   },
   "source": [
    "### Description\n",
    "Model generation for supervised models (GBM, deeplearning, logistic regression, random forest, stacked ensemble, xgboost, SVM) to be used in tests"
   ]
  },
  {
   "cell_type": "markdown",
   "metadata": {
    "pycharm": {
     "name": "#%% md\n"
    }
   },
   "source": [
    "# H2O.ai"
   ]
  },
  {
   "cell_type": "code",
   "execution_count": null,
   "outputs": [],
   "source": [
    "import os\n",
    "ARTIFACTS_PATH = '../../artifacts/h2o/'\n",
    "os.makedirs(ARTIFACTS_PATH, exist_ok=True) # Create path if not exists"
   ],
   "metadata": {
    "collapsed": false,
    "pycharm": {
     "name": "#%%\n"
    }
   }
  },
  {
   "cell_type": "code",
   "execution_count": null,
   "outputs": [],
   "source": [
    "import h2o\n",
    "h2o.init()"
   ],
   "metadata": {
    "collapsed": false,
    "pycharm": {
     "name": "#%%\n"
    }
   }
  },
  {
   "cell_type": "code",
   "execution_count": null,
   "outputs": [],
   "source": [
    "data = h2o.import_file(\"../../data/failure/failure.csv\")"
   ],
   "metadata": {
    "collapsed": false,
    "pycharm": {
     "name": "#%%\n"
    }
   }
  },
  {
   "cell_type": "code",
   "execution_count": null,
   "outputs": [],
   "source": [
    "data.head(1)"
   ],
   "metadata": {
    "collapsed": false,
    "pycharm": {
     "name": "#%%\n"
    }
   }
  },
  {
   "cell_type": "markdown",
   "source": [
    "## Test-Train "
   ],
   "metadata": {
    "collapsed": false,
    "pycharm": {
     "name": "#%% md\n"
    }
   }
  },
  {
   "cell_type": "code",
   "execution_count": null,
   "outputs": [],
   "source": [
    "#split the data as described above\n",
    "train, valid, test = data.split_frame([0.6, 0.2], seed=1234)\n",
    "\n",
    "#Prepare predictors and response columns\n",
    "data_X = data.col_names[:-2]     #last column is cover_type, \n",
    "data_y = data.col_names[-1]"
   ],
   "metadata": {
    "collapsed": false,
    "pycharm": {
     "name": "#%%\n"
    }
   }
  },
  {
   "cell_type": "markdown",
   "source": [
    "## Creating Models"
   ],
   "metadata": {
    "collapsed": false,
    "pycharm": {
     "name": "#%% md\n"
    }
   }
  },
  {
   "cell_type": "markdown",
   "source": [
    "### DeepNet"
   ],
   "metadata": {
    "collapsed": false,
    "pycharm": {
     "name": "#%% md\n"
    }
   }
  },
  {
   "cell_type": "code",
   "execution_count": null,
   "outputs": [],
   "source": [
    "model_name = \"deepnet_h2o\""
   ],
   "metadata": {
    "collapsed": false,
    "pycharm": {
     "name": "#%%\n"
    }
   }
  },
  {
   "cell_type": "code",
   "execution_count": null,
   "outputs": [],
   "source": [
    "from h2o.estimators.deeplearning import H2ODeepLearningEstimator\n",
    "deep_model =  H2ODeepLearningEstimator(\n",
    "    model_id=model_name,\n",
    "    keep_cross_validation_models=True, \n",
    "    keep_cross_validation_predictions=True, \n",
    "    hidden=[20, 20], \n",
    "    epochs=10, \n",
    "    variable_importances=True)\n",
    "deep_model.train(data_X[1:], data_y, training_frame = train, validation_frame = valid)\n",
    "\n",
    "#saving model mojo to mlmodels folder\n",
    "model_file = deep_model.download_mojo(path = modelsdir + \"/\",\n",
    "                                           get_genmodel_jar = False)"
   ],
   "metadata": {
    "collapsed": false,
    "pycharm": {
     "name": "#%%\n"
    }
   }
  },
  {
   "cell_type": "code",
   "execution_count": null,
   "outputs": [],
   "source": [
    "pred = deep_model.predict(test)\n",
    "pred.cbind(test).head(1000)"
   ],
   "metadata": {
    "collapsed": false,
    "pycharm": {
     "name": "#%%\n"
    }
   }
  },
  {
   "cell_type": "code",
   "execution_count": null,
   "outputs": [],
   "source": [
    "## Logistic regression"
   ],
   "metadata": {
    "collapsed": false,
    "pycharm": {
     "name": "#%%\n"
    }
   }
  },
  {
   "cell_type": "code",
   "execution_count": null,
   "outputs": [],
   "source": [
    "model_name = \"logreg_h2o\""
   ],
   "metadata": {
    "collapsed": false,
    "pycharm": {
     "name": "#%%\n"
    }
   }
  },
  {
   "cell_type": "code",
   "execution_count": null,
   "outputs": [],
   "source": [
    "from h2o.estimators import H2OGeneralizedLinearEstimator\n",
    "logr_model =  H2OGeneralizedLinearEstimator(\n",
    "    model_id=model_name,\n",
    "    family = \"binomial\",\n",
    "    standardize = True, \n",
    "    solver = \"IRLSM\",\n",
    "    link = \"logit\", \n",
    "    alpha = 0.5, \n",
    "    keep_cross_validation_predictions=True)\n",
    "logr_model.train(data_X[1:], data_y, training_frame = train, validation_frame = valid)\n",
    "\n",
    "#saving model mojo to mlmodels folder\n",
    "model_file = logr_model.download_mojo(path = ARTIFACTS_PATH + \"/\",\n",
    "                                           get_genmodel_jar = False)"
   ],
   "metadata": {
    "collapsed": false,
    "pycharm": {
     "name": "#%%\n"
    }
   }
  },
  {
   "cell_type": "code",
   "execution_count": null,
   "outputs": [],
   "source": [
    "pred = logr_model.predict(test)\n",
    "pred.cbind(test).head(1000)"
   ],
   "metadata": {
    "collapsed": false,
    "pycharm": {
     "name": "#%%\n"
    }
   }
  },
  {
   "cell_type": "markdown",
   "source": [
    "## Random Forest"
   ],
   "metadata": {
    "collapsed": false,
    "pycharm": {
     "name": "#%% md\n"
    }
   }
  },
  {
   "cell_type": "code",
   "execution_count": null,
   "outputs": [],
   "source": [
    "model_name = \"randomforest_h2o\""
   ],
   "metadata": {
    "collapsed": false,
    "pycharm": {
     "name": "#%%\n"
    }
   }
  },
  {
   "cell_type": "code",
   "execution_count": null,
   "outputs": [],
   "source": [
    "from h2o.estimators import H2ORandomForestEstimator\n",
    "rf_model = H2ORandomForestEstimator(\n",
    "    model_id=model_name,\n",
    "    ntrees=50,\n",
    "    nfolds=5,\n",
    "    fold_assignment=\"Modulo\",\n",
    "    keep_cross_validation_predictions=True,\n",
    "    seed=1)\n",
    "\n",
    "rf_model.train(data_X[1:], data_y, training_frame = train, validation_frame = valid)\n",
    "\n",
    "#saving model mojo to mlmodels folder\n",
    "model_file = rf_model.download_mojo(path = ARTIFACTS_PATH + \"/\",\n",
    "                                           get_genmodel_jar = False)"
   ],
   "metadata": {
    "collapsed": false,
    "pycharm": {
     "name": "#%%\n"
    }
   }
  },
  {
   "cell_type": "code",
   "execution_count": null,
   "outputs": [],
   "source": [
    "pred = rf_model.predict(test)\n",
    "pred.cbind(test).head(1000)"
   ],
   "metadata": {
    "collapsed": false,
    "pycharm": {
     "name": "#%%\n"
    }
   }
  },
  {
   "cell_type": "markdown",
   "source": [
    "## GBM"
   ],
   "metadata": {
    "collapsed": false,
    "pycharm": {
     "name": "#%% md\n"
    }
   }
  },
  {
   "cell_type": "code",
   "execution_count": null,
   "outputs": [],
   "source": [
    "model_name = \"gbm_h2o\""
   ],
   "metadata": {
    "collapsed": false,
    "pycharm": {
     "name": "#%%\n"
    }
   }
  },
  {
   "cell_type": "code",
   "execution_count": null,
   "outputs": [],
   "source": [
    "from h2o.estimators import H2OGradientBoostingEstimator\n",
    "gbm_model = H2OGradientBoostingEstimator(\n",
    "    model_id=model_name,\n",
    "    distribution=\"bernoulli\",\n",
    "    ntrees=10,\n",
    "    max_depth=3,\n",
    "    min_rows=2,\n",
    "    learn_rate=0.2,\n",
    "    nfolds=5,\n",
    "    fold_assignment=\"Modulo\",\n",
    "    keep_cross_validation_predictions=True,\n",
    "    seed=1)\n",
    "\n",
    "gbm_model.train(data_X[1:], data_y, training_frame = train, validation_frame = valid)\n",
    "\n",
    "#saving model mojo to mlmodels folder\n",
    "model_file = gbm_model.download_mojo(path = ARTIFACTS_PATH + \"/\",\n",
    "                                           get_genmodel_jar = False)"
   ],
   "metadata": {
    "collapsed": false,
    "pycharm": {
     "name": "#%%\n"
    }
   }
  },
  {
   "cell_type": "code",
   "execution_count": null,
   "outputs": [],
   "source": [
    "pred = gbm_model.predict(test)\n",
    "pred.cbind(test).head(1000)"
   ],
   "metadata": {
    "collapsed": false,
    "pycharm": {
     "name": "#%%\n"
    }
   }
  },
  {
   "cell_type": "markdown",
   "source": [
    "## Stacked Ensemble"
   ],
   "metadata": {
    "collapsed": false,
    "pycharm": {
     "name": "#%% md\n"
    }
   }
  },
  {
   "cell_type": "code",
   "execution_count": null,
   "outputs": [],
   "source": [
    "model_name = \"ensemble_h2o\""
   ],
   "metadata": {
    "collapsed": false,
    "pycharm": {
     "name": "#%%\n"
    }
   }
  },
  {
   "cell_type": "code",
   "execution_count": null,
   "outputs": [],
   "source": [
    "from h2o.estimators import H2OStackedEnsembleEstimator\n",
    "\n",
    "ensemble_model = H2OStackedEnsembleEstimator(\n",
    "    model_id=model_name,\n",
    "    base_models=[gbm_model,rf_model])\n",
    "\n",
    "ensemble_model.train(data_X[1:], data_y, training_frame = train, validation_frame = valid)\n",
    "\n",
    "#saving model mojo to mlmodels folder\n",
    "model_file = ensemble_model.download_mojo(path = ARTIFACTS_PATH + \"/\",\n",
    "                                           get_genmodel_jar = False)\n"
   ],
   "metadata": {
    "collapsed": false,
    "pycharm": {
     "name": "#%%\n"
    }
   }
  },
  {
   "cell_type": "code",
   "execution_count": null,
   "outputs": [],
   "source": [
    "pred = ensemble_model.predict(test)\n",
    "pred.cbind(test).head(1000)"
   ],
   "metadata": {
    "collapsed": false,
    "pycharm": {
     "name": "#%%\n"
    }
   }
  },
  {
   "cell_type": "markdown",
   "source": [
    "## SVM"
   ],
   "metadata": {
    "collapsed": false,
    "pycharm": {
     "name": "#%% md\n"
    }
   }
  },
  {
   "cell_type": "code",
   "execution_count": null,
   "outputs": [],
   "source": [
    "model_name = \"svm_h2o\""
   ],
   "metadata": {
    "collapsed": false,
    "pycharm": {
     "name": "#%%\n"
    }
   }
  },
  {
   "cell_type": "code",
   "execution_count": null,
   "outputs": [],
   "source": [
    "from h2o.estimators import H2OSupportVectorMachineEstimator\n",
    "\n",
    "svm_model = H2OSupportVectorMachineEstimator(model_id=model_name,\n",
    "                                             gamma=0.2,\n",
    "                                             rank_ratio = 0.2,\n",
    "                                             disable_training_metrics = True)\n",
    "\n",
    "svm_model.train(y = data_y, training_frame = train)\n",
    "\n",
    "#saving model mojo to mlmodels folder\n",
    "model_file = svm_model.download_mojo(path = ARTIFACTS_PATH + \"/\",\n",
    "                                           get_genmodel_jar = False)"
   ],
   "metadata": {
    "collapsed": false,
    "pycharm": {
     "name": "#%%\n"
    }
   }
  }
 ],
 "metadata": {
  "kernelspec": {
   "display_name": "Python 3",
   "language": "python",
   "name": "python3"
  },
  "language_info": {
   "codemirror_mode": {
    "name": "ipython",
    "version": 3
   },
   "file_extension": ".py",
   "mimetype": "text/x-python",
   "name": "python",
   "nbconvert_exporter": "python",
   "pygments_lexer": "ipython3",
   "version": "3.8.10"
  },
  "pycharm": {
   "stem_cell": {
    "cell_type": "raw",
    "metadata": {
     "collapsed": false
    },
    "source": []
   }
  }
 },
 "nbformat": 4,
 "nbformat_minor": 2
}