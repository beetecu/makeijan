{
 "cells": [
  {
   "cell_type": "markdown",
   "metadata": {
    "pycharm": {
     "name": "#%% md\n"
    }
   },
   "source": [
    "# Notebook to support tests for Catboost engine based on House Prices dataset\n",
    "\n",
    "Source: https://www.kaggle.com/c/house-prices-advanced-regression-techniques"
   ]
  },
  {
   "cell_type": "code",
   "execution_count": 1,
   "metadata": {
    "pycharm": {
     "is_executing": true,
     "name": "#%%\n"
    }
   },
   "outputs": [],
   "source": [
    "import catboost\n",
    "import numbers\n",
    "import numpy as np\n",
    "import pandas as pd\n",
    "from sklearn.model_selection import train_test_split\n",
    "import os"
   ]
  },
  {
   "cell_type": "code",
   "execution_count": 2,
   "metadata": {
    "pycharm": {
     "is_executing": true,
     "name": "#%%\n"
    }
   },
   "outputs": [],
   "source": [
    "ARTIFACTS_PATH = '../../artifacts/catboost/'\n",
    "os.makedirs(ARTIFACTS_PATH, exist_ok=True) # Create path if not exists"
   ]
  },
  {
   "cell_type": "markdown",
   "metadata": {
    "pycharm": {
     "name": "#%% md\n"
    }
   },
   "source": [
    "## Load dataset"
   ]
  },
  {
   "cell_type": "code",
   "execution_count": 3,
   "metadata": {
    "pycharm": {
     "is_executing": true,
     "name": "#%%\n"
    }
   },
   "outputs": [],
   "source": [
    "def load_data(df, data_columns, target_column, cat_columns):\n",
    "    df = df[data_columns]\n",
    "    \n",
    "    df_columns = [c for c in df.columns if c != target_column]\n",
    "    cat_columns_idx = [i for i, c in enumerate(df_columns) if c in cat_columns]\n",
    "    cat_columns_names = [c for i, c in enumerate(df_columns) if i in cat_columns_idx]\n",
    "\n",
    "    for col_name in df.columns:\n",
    "        if col_name in cat_columns:\n",
    "            df[col_name].replace(np.nan, '', inplace=True)\n",
    "        else:\n",
    "            df[col_name].replace(np.nan, None, inplace=True)\n",
    "    \n",
    "    X_data = df.loc[:, df.columns != target_column].to_numpy()\n",
    "    y_data = df[[target_column]].to_numpy().reshape(-1)\n",
    "    return df, X_data, y_data"
   ]
  },
  {
   "cell_type": "code",
   "execution_count": 4,
   "metadata": {
    "pycharm": {
     "name": "#%%\n"
    }
   },
   "outputs": [],
   "source": [
    "df = pd.read_csv('../../data/house_prices/train.csv')\n",
    "df_train, df_test = train_test_split(df, test_size=0.2, random_state=42)"
   ]
  },
  {
   "cell_type": "code",
   "execution_count": 8,
   "metadata": {
    "pycharm": {
     "name": "#%%\n"
    }
   },
   "outputs": [
    {
     "name": "stdout",
     "output_type": "stream",
     "text": [
      "<bound method DataFrame.select_dtypes of         Id  MSSubClass MSZoning  LotFrontage  LotArea Street Alley LotShape  \\\n",
      "254    255          20       RL         70.0     8400   Pave   NaN      Reg   \n",
      "1066  1067          60       RL         59.0     7837   Pave   NaN      IR1   \n",
      "638    639          30       RL         67.0     8777   Pave   NaN      Reg   \n",
      "799    800          50       RL         60.0     7200   Pave   NaN      Reg   \n",
      "380    381          50       RL         50.0     5000   Pave  Pave      Reg   \n",
      "303    304          20       RL         70.0     9800   Pave   NaN      Reg   \n",
      "86      87          60       RL        122.0    11911   Pave   NaN      IR2   \n",
      "1385  1386          50       RM         40.0     5436   Pave   NaN      Reg   \n",
      "265    266          20       RL         78.0    12090   Pave   NaN      IR1   \n",
      "793    794          20       RL         76.0     9158   Pave   NaN      Reg   \n",
      "1445  1446          85       RL         70.0     8400   Pave   NaN      Reg   \n",
      "808    809          80       RL         85.0    13400   Pave   NaN      Reg   \n",
      "1099  1100          20       RL         82.0    11880   Pave   NaN      IR1   \n",
      "605    606          60       RL         85.0    13600   Pave   NaN      Reg   \n",
      "701    702          20       RL         80.0     9600   Pave   NaN      Reg   \n",
      "221    222          60       RL          NaN     8068   Pave   NaN      IR1   \n",
      "113    114          20       RL          NaN    21000   Pave   NaN      Reg   \n",
      "548    549          20       RM         49.0     8235   Pave   NaN      IR1   \n",
      "1073  1074          60       RL         75.0     7950   Pave   NaN      IR1   \n",
      "174    175          20       RL         47.0    12416   Pave   NaN      IR1   \n",
      "514    515          45       RL         55.0    10594   Pave   NaN      Reg   \n",
      "1350  1351          90       RL         91.0    11643   Pave   NaN      Reg   \n",
      "1145  1146          50       RM         52.0     6240   Pave   NaN      Reg   \n",
      "965    966          60       RL         65.0    10237   Pave   NaN      Reg   \n",
      "936    937          20       RL         67.0    10083   Pave   NaN      Reg   \n",
      "285    286         160       FV         35.0     4251   Pave  Pave      IR1   \n",
      "1310  1311          20       RL        100.0    17500   Pave   NaN      Reg   \n",
      "342    343          90       RL          NaN     8544   Pave   NaN      Reg   \n",
      "1165  1166          20       RL         79.0     9541   Pave   NaN      IR1   \n",
      "31      32          20       RL          NaN     8544   Pave   NaN      IR1   \n",
      "...    ...         ...      ...          ...      ...    ...   ...      ...   \n",
      "747    748          70       RM         65.0    11700   Pave  Pave      IR1   \n",
      "252    253          60       RL         65.0     8366   Pave   NaN      IR1   \n",
      "21      22          45       RM         57.0     7449   Pave  Grvl      Reg   \n",
      "1337  1338          30       RM        153.0     4118   Pave  Grvl      IR1   \n",
      "459    460          50       RL          NaN     7015   Pave   NaN      IR1   \n",
      "1184  1185          20       RL         50.0    35133   Grvl   NaN      Reg   \n",
      "276    277          20       RL        129.0     9196   Pave   NaN      IR1   \n",
      "955    956          90       RH         82.0     7136   Pave   NaN      IR1   \n",
      "1215  1216          20       RL         99.0     7094   Pave   NaN      IR1   \n",
      "385    386         120       RL         43.0     3182   Pave   NaN      Reg   \n",
      "805    806          20       RL         91.0    12274   Pave   NaN      IR1   \n",
      "1437  1438          20       RL         96.0    12444   Pave   NaN      Reg   \n",
      "343    344         120       RL         63.0     8849   Pave   NaN      IR1   \n",
      "769    770          60       RL         47.0    53504   Pave   NaN      IR2   \n",
      "1332  1333          20       RL         67.0     8877   Pave   NaN      Reg   \n",
      "130    131          60       RL         88.0    14200   Pave   NaN      Reg   \n",
      "871    872          60       RL         70.0     8750   Pave   NaN      Reg   \n",
      "1123  1124          20       RL         50.0     9405   Pave   NaN      Reg   \n",
      "1396  1397          20       RL          NaN    57200   Pave   NaN      IR1   \n",
      "87      88         160       FV         40.0     3951   Pave  Pave      Reg   \n",
      "330    331          90       RL          NaN    10624   Pave   NaN      IR1   \n",
      "1238  1239          20       RL         63.0    13072   Pave   NaN      Reg   \n",
      "466    467          20       RL         85.0    10628   Pave   NaN      Reg   \n",
      "121    122          50       RM         50.0     6060   Pave   NaN      Reg   \n",
      "1044  1045          20       RL         80.0     9600   Pave   NaN      Reg   \n",
      "1095  1096          20       RL         78.0     9317   Pave   NaN      IR1   \n",
      "1130  1131          50       RL         65.0     7804   Pave   NaN      Reg   \n",
      "1294  1295          20       RL         60.0     8172   Pave   NaN      Reg   \n",
      "860    861          50       RL         55.0     7642   Pave   NaN      Reg   \n",
      "1126  1127         120       RL         53.0     3684   Pave   NaN      Reg   \n",
      "\n",
      "     LandContour Utilities  ... PoolArea PoolQC  Fence MiscFeature MiscVal  \\\n",
      "254          Lvl    AllPub  ...        0    NaN    NaN         NaN       0   \n",
      "1066         Lvl    AllPub  ...        0    NaN    NaN         NaN       0   \n",
      "638          Lvl    AllPub  ...        0    NaN  MnPrv         NaN       0   \n",
      "799          Lvl    AllPub  ...        0    NaN  MnPrv         NaN       0   \n",
      "380          Lvl    AllPub  ...        0    NaN    NaN         NaN       0   \n",
      "303          Lvl    AllPub  ...        0    NaN   GdWo         NaN       0   \n",
      "86           Lvl    AllPub  ...        0    NaN    NaN         NaN       0   \n",
      "1385         Lvl    AllPub  ...        0    NaN  MnPrv         NaN       0   \n",
      "265          Lvl    AllPub  ...        0    NaN  GdPrv         NaN       0   \n",
      "793          Lvl    AllPub  ...        0    NaN    NaN         NaN       0   \n",
      "1445         Lvl    AllPub  ...        0    NaN    NaN         NaN       0   \n",
      "808          Lvl    AllPub  ...        0    NaN   GdWo         NaN       0   \n",
      "1099         Lvl    AllPub  ...        0    NaN    NaN         NaN       0   \n",
      "605          Lvl    AllPub  ...        0    NaN    NaN         NaN       0   \n",
      "701          Lvl    AllPub  ...        0    NaN    NaN         NaN       0   \n",
      "221          Lvl    AllPub  ...        0    NaN    NaN         NaN       0   \n",
      "113          Bnk    AllPub  ...        0    NaN  MnPrv         NaN       0   \n",
      "548          HLS    AllPub  ...        0    NaN  MnPrv         NaN       0   \n",
      "1073         Bnk    AllPub  ...        0    NaN  MnPrv         NaN       0   \n",
      "174          Lvl    AllPub  ...        0    NaN    NaN         NaN       0   \n",
      "514          Lvl    AllPub  ...        0    NaN  MnPrv         NaN       0   \n",
      "1350         Lvl    AllPub  ...        0    NaN    NaN         NaN       0   \n",
      "1145         Lvl    AllPub  ...        0    NaN    NaN         NaN       0   \n",
      "965          Lvl    AllPub  ...        0    NaN    NaN         NaN       0   \n",
      "936          Lvl    AllPub  ...        0    NaN    NaN         NaN       0   \n",
      "285          Lvl    AllPub  ...        0    NaN    NaN         NaN       0   \n",
      "1310         Lvl    AllPub  ...        0    NaN    NaN         NaN       0   \n",
      "342          Lvl    AllPub  ...        0    NaN    NaN         NaN       0   \n",
      "1165         Lvl    AllPub  ...        0    NaN    NaN         NaN       0   \n",
      "31           Lvl    AllPub  ...        0    NaN  MnPrv         NaN       0   \n",
      "...          ...       ...  ...      ...    ...    ...         ...     ...   \n",
      "747          Lvl    AllPub  ...        0    NaN    NaN         NaN       0   \n",
      "252          Lvl    AllPub  ...        0    NaN    NaN         NaN       0   \n",
      "21           Bnk    AllPub  ...        0    NaN  GdPrv         NaN       0   \n",
      "1337         Bnk    AllPub  ...        0    NaN    NaN         NaN       0   \n",
      "459          Bnk    AllPub  ...        0    NaN    NaN         NaN       0   \n",
      "1184         Lvl    AllPub  ...        0    NaN    NaN         NaN       0   \n",
      "276          Lvl    AllPub  ...        0    NaN    NaN         NaN       0   \n",
      "955          HLS    AllPub  ...        0    NaN    NaN         NaN       0   \n",
      "1215         Lvl    AllPub  ...        0    NaN  MnPrv         NaN       0   \n",
      "385          Lvl    AllPub  ...        0    NaN    NaN         NaN       0   \n",
      "805          Lvl    AllPub  ...        0    NaN    NaN         NaN       0   \n",
      "1437         Lvl    AllPub  ...        0    NaN    NaN         NaN       0   \n",
      "343          Lvl    AllPub  ...        0    NaN    NaN         NaN       0   \n",
      "769          HLS    AllPub  ...        0    NaN    NaN         NaN       0   \n",
      "1332         Lvl    AllPub  ...        0    NaN    NaN         NaN       0   \n",
      "130          Lvl    AllPub  ...        0    NaN  GdPrv         NaN       0   \n",
      "871          Lvl    AllPub  ...        0    NaN    NaN         NaN       0   \n",
      "1123         Lvl    AllPub  ...        0    NaN    NaN         NaN       0   \n",
      "1396         Bnk    AllPub  ...        0    NaN    NaN         NaN       0   \n",
      "87           Lvl    AllPub  ...        0    NaN    NaN         NaN       0   \n",
      "330          Lvl    AllPub  ...        0    NaN    NaN         NaN       0   \n",
      "1238         Lvl    AllPub  ...        0    NaN    NaN         NaN       0   \n",
      "466          Lvl    AllPub  ...        0    NaN   GdWo         NaN       0   \n",
      "121          Lvl    AllPub  ...        0    NaN  MnPrv         NaN       0   \n",
      "1044         Lvl    AllPub  ...        0    NaN  MnPrv         NaN       0   \n",
      "1095         Lvl    AllPub  ...        0    NaN    NaN         NaN       0   \n",
      "1130         Lvl    AllPub  ...        0    NaN  MnPrv         NaN       0   \n",
      "1294         Lvl    AllPub  ...        0    NaN    NaN         NaN       0   \n",
      "860          Lvl    AllPub  ...        0    NaN  GdPrv         NaN       0   \n",
      "1126         Lvl    AllPub  ...        0    NaN    NaN         NaN       0   \n",
      "\n",
      "     MoSold YrSold  SaleType  SaleCondition  SalePrice  \n",
      "254       6   2010        WD         Normal     145000  \n",
      "1066      5   2009        WD         Normal     178000  \n",
      "638       5   2008        WD         Normal      85000  \n",
      "799       6   2007        WD         Normal     175000  \n",
      "380       5   2010        WD         Normal     127000  \n",
      "303       7   2006        WD        Abnorml     149900  \n",
      "86        3   2009        WD         Normal     174000  \n",
      "1385      5   2010        WD         Normal     125500  \n",
      "265       6   2008        WD         Normal     175500  \n",
      "793       6   2007       New        Partial     225000  \n",
      "1445      5   2007        WD         Normal     129000  \n",
      "808       6   2006        WD         Normal     159950  \n",
      "1099      4   2009       COD        Abnorml     157000  \n",
      "605      10   2009        WD         Normal     205000  \n",
      "701       7   2006       COD         Normal     140000  \n",
      "221      12   2009     ConLI         Normal     200000  \n",
      "113      10   2007       COD        Abnorml     217000  \n",
      "548       6   2008        WD         Normal     125000  \n",
      "1073      7   2009        WD         Normal     159500  \n",
      "174      11   2008        WD         Normal     184000  \n",
      "514       6   2007        WD         Normal      96500  \n",
      "1350      8   2009        WD         Normal     200000  \n",
      "1145      8   2006        WD         Family     149000  \n",
      "965       7   2007       New        Partial     178900  \n",
      "936       8   2009        WD         Normal     184900  \n",
      "285       6   2007       New        Partial     164700  \n",
      "1310      5   2010        WD         Normal     335000  \n",
      "342       5   2006        WD         Normal      87500  \n",
      "1165      9   2009       New        Partial     233170  \n",
      "31        6   2008        WD         Normal     149350  \n",
      "...     ...    ...       ...            ...        ...  \n",
      "747       5   2009        WD         Normal     265979  \n",
      "252      12   2008        WD         Normal     173000  \n",
      "21        6   2007        WD         Normal     139400  \n",
      "1337      3   2006        WD         Normal      52500  \n",
      "459       7   2009        WD         Normal     110000  \n",
      "1184      5   2007        WD         Normal     186700  \n",
      "276       4   2010        WD         Normal     201000  \n",
      "955       8   2007        WD         Normal     145000  \n",
      "1215      5   2007        WD         Normal     125000  \n",
      "385       4   2010        WD         Normal     192000  \n",
      "805       7   2008       New        Partial     227680  \n",
      "1437     11   2008       New        Partial     394617  \n",
      "343       7   2008        WD         Normal     266000  \n",
      "769       6   2010        WD         Normal     538000  \n",
      "1332      5   2009        WD         Normal     100000  \n",
      "130       5   2006        WD         Normal     226000  \n",
      "871       6   2010        WD         Normal     200500  \n",
      "1123      6   2009        WD         Normal     118000  \n",
      "1396      6   2010        WD         Normal     160000  \n",
      "87        6   2009       New        Partial     164500  \n",
      "330      11   2007        WD         Normal     119000  \n",
      "1238      3   2006        WD        Abnorml     142500  \n",
      "466       4   2007        WD         Normal     167000  \n",
      "121       6   2007        WD         Normal     100000  \n",
      "1044      7   2009        WD         Normal     278000  \n",
      "1095      3   2007        WD         Normal     176432  \n",
      "1130     12   2009        WD         Normal     135000  \n",
      "1294      4   2006        WD         Normal     115000  \n",
      "860       6   2007        WD         Normal     189950  \n",
      "1126      6   2009        WD         Normal     174000  \n",
      "\n",
      "[1168 rows x 81 columns]>\n"
     ]
    },
    {
     "ename": "TypeError",
     "evalue": "Cannot interpret '<attribute 'dtype' of 'numpy.generic' objects>' as a data type",
     "output_type": "error",
     "traceback": [
      "\u001B[0;31m---------------------------------------------------------------------------\u001B[0m",
      "\u001B[0;31mTypeError\u001B[0m                                 Traceback (most recent call last)",
      "\u001B[0;32m<ipython-input-8-0c6b4b980e66>\u001B[0m in \u001B[0;36m<module>\u001B[0;34m\u001B[0m\n\u001B[1;32m      5\u001B[0m \u001B[0;34m\u001B[0m\u001B[0m\n\u001B[1;32m      6\u001B[0m \u001B[0;31m# Get categorical columns\u001B[0m\u001B[0;34m\u001B[0m\u001B[0;34m\u001B[0m\u001B[0;34m\u001B[0m\u001B[0m\n\u001B[0;32m----> 7\u001B[0;31m \u001B[0mcat_columns\u001B[0m \u001B[0;34m=\u001B[0m \u001B[0mdf_train\u001B[0m\u001B[0;34m.\u001B[0m\u001B[0mselect_dtypes\u001B[0m\u001B[0;34m(\u001B[0m\u001B[0mexclude\u001B[0m\u001B[0;34m=\u001B[0m\u001B[0;34m[\u001B[0m\u001B[0;34m\"number\"\u001B[0m\u001B[0;34m,\u001B[0m\u001B[0;34m\"bool_\"\u001B[0m\u001B[0;34m,\u001B[0m\u001B[0;34m\"object_\"\u001B[0m\u001B[0;34m]\u001B[0m\u001B[0;34m)\u001B[0m\u001B[0;34m.\u001B[0m\u001B[0mcolumns\u001B[0m\u001B[0;34m\u001B[0m\u001B[0;34m\u001B[0m\u001B[0m\n\u001B[0m",
      "\u001B[0;32m~/Documents/repos/mlx/libs/pytonisa/venv/lib/python3.8/site-packages/pandas/core/frame.py\u001B[0m in \u001B[0;36mselect_dtypes\u001B[0;34m(self, include, exclude)\u001B[0m\n\u001B[1;32m   3324\u001B[0m         \u001B[0;31m# the \"union\" of the logic of case 1 and case 2:\u001B[0m\u001B[0;34m\u001B[0m\u001B[0;34m\u001B[0m\u001B[0;34m\u001B[0m\u001B[0m\n\u001B[1;32m   3325\u001B[0m         \u001B[0;31m# we get the included and excluded, and return their logical and\u001B[0m\u001B[0;34m\u001B[0m\u001B[0;34m\u001B[0m\u001B[0;34m\u001B[0m\u001B[0m\n\u001B[0;32m-> 3326\u001B[0;31m         \u001B[0minclude_these\u001B[0m \u001B[0;34m=\u001B[0m \u001B[0mSeries\u001B[0m\u001B[0;34m(\u001B[0m\u001B[0;32mnot\u001B[0m \u001B[0mbool\u001B[0m\u001B[0;34m(\u001B[0m\u001B[0minclude\u001B[0m\u001B[0;34m)\u001B[0m\u001B[0;34m,\u001B[0m \u001B[0mindex\u001B[0m\u001B[0;34m=\u001B[0m\u001B[0mself\u001B[0m\u001B[0;34m.\u001B[0m\u001B[0mcolumns\u001B[0m\u001B[0;34m)\u001B[0m\u001B[0;34m\u001B[0m\u001B[0;34m\u001B[0m\u001B[0m\n\u001B[0m\u001B[1;32m   3327\u001B[0m         \u001B[0mexclude_these\u001B[0m \u001B[0;34m=\u001B[0m \u001B[0mSeries\u001B[0m\u001B[0;34m(\u001B[0m\u001B[0;32mnot\u001B[0m \u001B[0mbool\u001B[0m\u001B[0;34m(\u001B[0m\u001B[0mexclude\u001B[0m\u001B[0;34m)\u001B[0m\u001B[0;34m,\u001B[0m \u001B[0mindex\u001B[0m\u001B[0;34m=\u001B[0m\u001B[0mself\u001B[0m\u001B[0;34m.\u001B[0m\u001B[0mcolumns\u001B[0m\u001B[0;34m)\u001B[0m\u001B[0;34m\u001B[0m\u001B[0;34m\u001B[0m\u001B[0m\n\u001B[1;32m   3328\u001B[0m \u001B[0;34m\u001B[0m\u001B[0m\n",
      "\u001B[0;32m~/Documents/repos/mlx/libs/pytonisa/venv/lib/python3.8/site-packages/pandas/core/series.py\u001B[0m in \u001B[0;36m__init__\u001B[0;34m(self, data, index, dtype, name, copy, fastpath)\u001B[0m\n\u001B[1;32m    259\u001B[0m                     \u001B[0mdata\u001B[0m \u001B[0;34m=\u001B[0m \u001B[0mdata\u001B[0m\u001B[0;34m.\u001B[0m\u001B[0mcopy\u001B[0m\u001B[0;34m(\u001B[0m\u001B[0;34m)\u001B[0m\u001B[0;34m\u001B[0m\u001B[0;34m\u001B[0m\u001B[0m\n\u001B[1;32m    260\u001B[0m             \u001B[0;32melse\u001B[0m\u001B[0;34m:\u001B[0m\u001B[0;34m\u001B[0m\u001B[0;34m\u001B[0m\u001B[0m\n\u001B[0;32m--> 261\u001B[0;31m                 data = sanitize_array(data, index, dtype, copy,\n\u001B[0m\u001B[1;32m    262\u001B[0m                                       raise_cast_failure=True)\n\u001B[1;32m    263\u001B[0m \u001B[0;34m\u001B[0m\u001B[0m\n",
      "\u001B[0;32m~/Documents/repos/mlx/libs/pytonisa/venv/lib/python3.8/site-packages/pandas/core/internals/construction.py\u001B[0m in \u001B[0;36msanitize_array\u001B[0;34m(data, index, dtype, copy, raise_cast_failure)\u001B[0m\n\u001B[1;32m    639\u001B[0m                 \u001B[0mvalue\u001B[0m \u001B[0;34m=\u001B[0m \u001B[0mmaybe_cast_to_datetime\u001B[0m\u001B[0;34m(\u001B[0m\u001B[0mvalue\u001B[0m\u001B[0;34m,\u001B[0m \u001B[0mdtype\u001B[0m\u001B[0;34m)\u001B[0m\u001B[0;34m\u001B[0m\u001B[0;34m\u001B[0m\u001B[0m\n\u001B[1;32m    640\u001B[0m \u001B[0;34m\u001B[0m\u001B[0m\n\u001B[0;32m--> 641\u001B[0;31m             subarr = construct_1d_arraylike_from_scalar(\n\u001B[0m\u001B[1;32m    642\u001B[0m                 value, len(index), dtype)\n\u001B[1;32m    643\u001B[0m \u001B[0;34m\u001B[0m\u001B[0m\n",
      "\u001B[0;32m~/Documents/repos/mlx/libs/pytonisa/venv/lib/python3.8/site-packages/pandas/core/dtypes/cast.py\u001B[0m in \u001B[0;36mconstruct_1d_arraylike_from_scalar\u001B[0;34m(value, length, dtype)\u001B[0m\n\u001B[1;32m   1185\u001B[0m                 \u001B[0mvalue\u001B[0m \u001B[0;34m=\u001B[0m \u001B[0mto_str\u001B[0m\u001B[0;34m(\u001B[0m\u001B[0mvalue\u001B[0m\u001B[0;34m)\u001B[0m\u001B[0;34m\u001B[0m\u001B[0;34m\u001B[0m\u001B[0m\n\u001B[1;32m   1186\u001B[0m \u001B[0;34m\u001B[0m\u001B[0m\n\u001B[0;32m-> 1187\u001B[0;31m         \u001B[0msubarr\u001B[0m \u001B[0;34m=\u001B[0m \u001B[0mnp\u001B[0m\u001B[0;34m.\u001B[0m\u001B[0mempty\u001B[0m\u001B[0;34m(\u001B[0m\u001B[0mlength\u001B[0m\u001B[0;34m,\u001B[0m \u001B[0mdtype\u001B[0m\u001B[0;34m=\u001B[0m\u001B[0mdtype\u001B[0m\u001B[0;34m)\u001B[0m\u001B[0;34m\u001B[0m\u001B[0;34m\u001B[0m\u001B[0m\n\u001B[0m\u001B[1;32m   1188\u001B[0m         \u001B[0msubarr\u001B[0m\u001B[0;34m.\u001B[0m\u001B[0mfill\u001B[0m\u001B[0;34m(\u001B[0m\u001B[0mvalue\u001B[0m\u001B[0;34m)\u001B[0m\u001B[0;34m\u001B[0m\u001B[0;34m\u001B[0m\u001B[0m\n\u001B[1;32m   1189\u001B[0m \u001B[0;34m\u001B[0m\u001B[0m\n",
      "\u001B[0;31mTypeError\u001B[0m: Cannot interpret '<attribute 'dtype' of 'numpy.generic' objects>' as a data type"
     ]
    }
   ],
   "source": [
    "data_columns = df_train.columns\n",
    "target_column = 'SalePrice'\n",
    "\n",
    "print(df_train.select_dtypes)\n",
    "\n",
    "# Get categorical columns\n",
    "cat_columns = df_train.select_dtypes(exclude=[\"number\",\"bool_\",\"object_\"]).columns"
   ]
  },
  {
   "cell_type": "code",
   "execution_count": null,
   "metadata": {
    "pycharm": {
     "name": "#%%\n"
    }
   },
   "outputs": [],
   "source": [
    "df_train, X_train, y_train = load_data(df_train, data_columns, target_column, cat_columns)\n",
    "df_train.head()"
   ]
  },
  {
   "cell_type": "code",
   "execution_count": null,
   "metadata": {
    "pycharm": {
     "name": "#%%\n"
    }
   },
   "outputs": [],
   "source": [
    "df_test, X_test, y_test = load_data(df_test, data_columns, target_column, cat_columns)\n",
    "df_test.head()"
   ]
  },
  {
   "cell_type": "markdown",
   "metadata": {
    "pycharm": {
     "name": "#%% md\n"
    }
   },
   "source": [
    "## Train model"
   ]
  },
  {
   "cell_type": "code",
   "execution_count": null,
   "metadata": {
    "pycharm": {
     "name": "#%%\n"
    }
   },
   "outputs": [],
   "source": [
    "cat_columns_idx = [i for i, x in enumerate(df_train.loc[:, df_train.columns != target_column].dtypes) if x == np.object]"
   ]
  },
  {
   "cell_type": "code",
   "execution_count": null,
   "metadata": {
    "pycharm": {
     "name": "#%%\n"
    }
   },
   "outputs": [],
   "source": [
    "X_train[0]"
   ]
  },
  {
   "cell_type": "code",
   "execution_count": null,
   "metadata": {
    "pycharm": {
     "name": "#%%\n"
    }
   },
   "outputs": [],
   "source": [
    "train_data = catboost.Pool(data=X_train, label=y_train, cat_features=cat_columns_idx)"
   ]
  },
  {
   "cell_type": "code",
   "execution_count": null,
   "metadata": {
    "pycharm": {
     "name": "#%%\n"
    }
   },
   "outputs": [],
   "source": [
    "model = catboost.CatBoostRegressor(\n",
    "    random_seed=42,\n",
    "    eval_metric='RMSE',\n",
    "    verbose=False,)"
   ]
  },
  {
   "cell_type": "code",
   "execution_count": null,
   "metadata": {
    "pycharm": {
     "name": "#%%\n"
    }
   },
   "outputs": [],
   "source": [
    "model.fit(train_data)"
   ]
  },
  {
   "cell_type": "markdown",
   "metadata": {
    "pycharm": {
     "name": "#%% md\n"
    }
   },
   "source": [
    "## Save & load\n",
    "\n",
    "See: https://catboost.ai/docs/concepts/python-reference_catboost_save_model.html"
   ]
  },
  {
   "cell_type": "code",
   "execution_count": null,
   "metadata": {
    "pycharm": {
     "name": "#%%\n"
    }
   },
   "outputs": [],
   "source": [
    "output_file = os.path.join(ARTIFACTS_PATH, 'house_prices.cbm')"
   ]
  },
  {
   "cell_type": "code",
   "execution_count": null,
   "metadata": {
    "pycharm": {
     "name": "#%%\n"
    }
   },
   "outputs": [],
   "source": [
    "model.save_model(output_file, pool=train_data)"
   ]
  },
  {
   "cell_type": "code",
   "execution_count": null,
   "metadata": {
    "pycharm": {
     "name": "#%%\n"
    }
   },
   "outputs": [],
   "source": [
    "model = catboost.CatBoostRegressor() # Params not required\n",
    "model.load_model(output_file)"
   ]
  },
  {
   "cell_type": "markdown",
   "metadata": {
    "pycharm": {
     "name": "#%% md\n"
    }
   },
   "source": [
    "## Predictions\n",
    "\n",
    "According to the Kaggle's evaluation:\n",
    "\n",
    "> Submissions are evaluated on Root-Mean-Squared-Error (RMSE) between the logarithm of the predicted value and the logarithm of the observed sales price. (Taking logs means that errors in predicting expensive houses and cheap houses will affect the result equally.)"
   ]
  },
  {
   "cell_type": "code",
   "execution_count": null,
   "metadata": {
    "pycharm": {
     "name": "#%%\n"
    }
   },
   "outputs": [],
   "source": [
    "y_pred = model.predict(X_test)"
   ]
  },
  {
   "cell_type": "code",
   "execution_count": null,
   "metadata": {
    "pycharm": {
     "name": "#%%\n"
    }
   },
   "outputs": [],
   "source": [
    "y_pred = y_pred.reshape(-1)"
   ]
  },
  {
   "cell_type": "code",
   "execution_count": null,
   "metadata": {
    "pycharm": {
     "name": "#%%\n"
    }
   },
   "outputs": [],
   "source": [
    "rmse = np.sqrt(np.mean((np.log(y_pred) - np.log(y_test)) ** 2))\n",
    "print('RMSE: %.4f' % rmse)"
   ]
  },
  {
   "cell_type": "markdown",
   "metadata": {
    "pycharm": {
     "name": "#%% md\n"
    }
   },
   "source": [
    "**Note**: I run the notebook in Kaggle just to see the score in the leaderboard. This basic approach achieves the 724th position out of 5345 teams (i.e. the top 14%)!!"
   ]
  },
  {
   "cell_type": "code",
   "execution_count": null,
   "metadata": {
    "pycharm": {
     "name": "#%%\n"
    }
   },
   "outputs": [],
   "source": []
  }
 ],
 "metadata": {
  "kernelspec": {
   "display_name": "Python 3",
   "language": "python",
   "name": "python3"
  },
  "language_info": {
   "codemirror_mode": {
    "name": "ipython",
    "version": 3
   },
   "file_extension": ".py",
   "mimetype": "text/x-python",
   "name": "python",
   "nbconvert_exporter": "python",
   "pygments_lexer": "ipython3",
   "version": "3.8.10"
  }
 },
 "nbformat": 4,
 "nbformat_minor": 4
}