{
 "cells": [
  {
   "cell_type": "markdown",
   "metadata": {},
   "source": [
    "## Connecting H2O"
   ]
  },
  {
   "cell_type": "code",
   "execution_count": null,
   "metadata": {},
   "outputs": [],
   "source": [
    "import h2o\n",
    "from IPython import get_ipython\n",
    "import jupyter\n",
    "import matplotlib.pyplot as plt\n",
    "from pylab import rcParams\n",
    "import numpy as np # linear algebra\n",
    "import pandas as pd # data processing, CSV file I/O (e.g. pd.read_csv)\n",
    "import os\n",
    "\n",
    "from h2o.estimators import H2OGradientBoostingEstimator   \n",
    "\n",
    "h2o.init(max_mem_size = 2) # initializing h2o server\n",
    "h2o.remove_all()"
   ]
  },
  {
   "cell_type": "markdown",
   "metadata": {},
   "source": [
    "## Importing Data"
   ]
  },
  {
   "cell_type": "code",
   "execution_count": null,
   "metadata": {},
   "outputs": [],
   "source": [
    "csic = h2o.import_file(\"data/training.csv\")"
   ]
  },
  {
   "cell_type": "markdown",
   "metadata": {},
   "source": [
    "## Clean data set and calculate some values based on domains\n",
    "\n",
    "1. String length\n",
    "2. Shannon Entropy\n",
    "3. Proportion of vowels"
   ]
  },
  {
   "cell_type": "code",
   "execution_count": null,
   "metadata": {},
   "outputs": [],
   "source": [
    "print('Data cleaning...')\n",
    "domains = domains[~domains['subclass'].isna()]\n",
    "\n",
    "print('Feature: string length')\n",
    "domains['length'] = domains['domain'].nchar()\n",
    "\n",
    "print('Feature: Shannon entropy')\n",
    "domains['entropy'] = domains['domain'].entropy()\n",
    "\n",
    "print('Feature: proportion of vowels')\n",
    "domains['p_vowels'] = 0\n",
    "for v in 'aeiou':\n",
    "  domains['p_vowels'] += domains['domain'].countmatches(v)\n",
    "\n",
    "domains['p_vowels'] /= domains['length']\n",
    "\n",
    "print('Feature: count of substrings that are English words')\n",
    "english_words = os.path.join(os.path.realpath(os.getcwd()),'words.txt')\n",
    "domains['num_words'] = domains['domain'].num_valid_substrings(english_words)"
   ]
  },
  {
   "cell_type": "markdown",
   "metadata": {},
   "source": [
    "# Check new values"
   ]
  },
  {
   "cell_type": "code",
   "execution_count": null,
   "metadata": {
    "scrolled": true
   },
   "outputs": [],
   "source": [
    "print(domains)"
   ]
  },
  {
   "cell_type": "markdown",
   "metadata": {},
   "source": [
    "# Add response field"
   ]
  },
  {
   "cell_type": "code",
   "execution_count": null,
   "metadata": {},
   "outputs": [],
   "source": [
    "print('\\nResponse: Is domain malicious?')\n",
    "\n",
    "domains['malicious'] = domains['class'] != 'legit'\n",
    "\n",
    "print (domains)"
   ]
  },
  {
   "cell_type": "markdown",
   "metadata": {},
   "source": [
    "# Split dataset"
   ]
  },
  {
   "cell_type": "code",
   "execution_count": null,
   "metadata": {
    "collapsed": true
   },
   "outputs": [],
   "source": [
    "rand = domains.runif(seed=123456)\n",
    "train = domains[rand <= 0.8]\n",
    "valid = domains[rand > 0.8]"
   ]
  },
  {
   "cell_type": "markdown",
   "metadata": {},
   "source": [
    "# Configure and train model"
   ]
  },
  {
   "cell_type": "code",
   "execution_count": null,
   "metadata": {},
   "outputs": [],
   "source": [
    "print('\\nModel: Logistic regression with regularization')\n",
    "model = H2OGradientBoostingEstimator(model_id='MaliciousDomainModel',\n",
    "                                      family='binomial', alpha=0, Lambda=1e-5)\n",
    "\n",
    "model.train(x=['length', 'entropy', 'p_vowels', 'num_words'],\n",
    "            y='malicious', training_frame=train, validation_frame=valid)\n",
    "\n",
    "print(model.confusion_matrix(valid=True))"
   ]
  },
  {
   "cell_type": "code",
   "execution_count": null,
   "metadata": {},
   "outputs": [],
   "source": [
    "path_dataset = os.path.join(os.path.realpath(os.getcwd()), 'legit-dga_domains_parsed.csv')\n",
    "\n",
    "h2o.export_file(domains,path_dataset)"
   ]
  },
  {
   "cell_type": "code",
   "execution_count": null,
   "metadata": {
    "collapsed": true
   },
   "outputs": [],
   "source": []
  }
 ],
 "metadata": {
  "kernelspec": {
   "display_name": "Python 3",
   "language": "python",
   "name": "python3"
  },
  "language_info": {
   "codemirror_mode": {
    "name": "ipython",
    "version": 3
   },
   "file_extension": ".py",
   "mimetype": "text/x-python",
   "name": "python",
   "nbconvert_exporter": "python",
   "pygments_lexer": "ipython3",
   "version": "3.5.2"
  }
 },
 "nbformat": 4,
 "nbformat_minor": 2
}
