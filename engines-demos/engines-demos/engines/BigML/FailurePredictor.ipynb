{
 "cells": [
  {
   "cell_type": "markdown",
   "metadata": {
    "pycharm": {
     "name": "#%% md\n"
    }
   },
   "source": [
    "# Predicting System Failure"
   ]
  },
  {
   "cell_type": "markdown",
   "metadata": {
    "pycharm": {
     "name": "#%% md\n"
    }
   },
   "source": [
    "### Description\n",
    "Model generation for supervised models (GBM, deepnet, logistic regression) to be used in tests.\n",
    "\n",
    "In this Jupyter notebook, we will examine sensory dataset from Nasa where we will create a model in order to predict system failure. This notebook can be generalized to any sensory driven data, such as manufacturing."
   ]
  },
  {
   "cell_type": "code",
   "execution_count": 1,
   "metadata": {
    "pycharm": {
     "name": "#%%\n"
    }
   },
   "outputs": [],
   "source": [
    "import numpy as np\n",
    "import pandas as pd\n",
    "# import seaborn as sns"
   ]
  },
  {
   "cell_type": "code",
   "execution_count": 2,
   "metadata": {
    "pycharm": {
     "name": "#%%\n"
    }
   },
   "outputs": [
    {
     "name": "stdout",
     "output_type": "stream",
     "text": [
      "3.8.10 (default, Mar 15 2022, 12:22:08) \n",
      "[GCC 9.4.0]\n"
     ]
    }
   ],
   "source": [
    "import sys\n",
    "print(sys.version)"
   ]
  },
  {
   "cell_type": "code",
   "execution_count": 3,
   "metadata": {},
   "outputs": [],
   "source": [
    "import os\n",
    "ARTIFACTS_PATH = '../../artifacts/bigml/'\n",
    "os.makedirs(ARTIFACTS_PATH, exist_ok=True) # Create path if not exists"
   ]
  },
  {
   "cell_type": "markdown",
   "metadata": {
    "pycharm": {
     "name": "#%% md\n"
    }
   },
   "source": [
    "### Save our BigML Username and Api Key to our environment to access the API"
   ]
  },
  {
   "cell_type": "code",
   "execution_count": 4,
   "metadata": {
    "pycharm": {
     "name": "#%%\n"
    }
   },
   "outputs": [],
   "source": [
    "import os\n",
    "os.environ['BIGML_USERNAME'] = \"elizaglez\"\n",
    "os.environ['BIGML_API_KEY'] = \"2064c7cbf0a35661eb33602d6ecd264aecdfd520\"\n",
    "os.environ['BIGML_CRED'] = \"username=$BIGML_USERNAME;api_key=$BIGML_API_KEY\"\n",
    "os.environ['BIGML_PROJECT'] = \"project/59ef803eaf447f0b1d001156\""
   ]
  },
  {
   "cell_type": "markdown",
   "metadata": {
    "pycharm": {
     "name": "#%% md\n"
    }
   },
   "source": [
    "### Creat our main API object that all the main functions will utilize."
   ]
  },
  {
   "cell_type": "code",
   "execution_count": 5,
   "metadata": {
    "pycharm": {
     "name": "#%%\n"
    }
   },
   "outputs": [],
   "source": [
    "from bigml.api import BigML\n",
    "api = BigML(project=\"project/59ef803eaf447f0b1d001156\")"
   ]
  },
  {
   "cell_type": "code",
   "execution_count": 6,
   "metadata": {
    "pycharm": {
     "name": "#%%\n"
    }
   },
   "outputs": [
    {
     "data": {
      "text/plain": [
       "True"
      ]
     },
     "execution_count": 6,
     "metadata": {},
     "output_type": "execute_result"
    }
   ],
   "source": [
    "data_source = api.create_source(\"../../data/failure/failure_small.csv\")\n",
    "api.ok(data_source)"
   ]
  },
  {
   "cell_type": "code",
   "execution_count": 7,
   "metadata": {
    "pycharm": {
     "name": "#%%\n"
    }
   },
   "outputs": [
    {
     "data": {
      "text/plain": [
       "True"
      ]
     },
     "execution_count": 7,
     "metadata": {},
     "output_type": "execute_result"
    }
   ],
   "source": [
    "data = api.create_dataset(data_source)\n",
    "api.ok(data)"
   ]
  },
  {
   "cell_type": "markdown",
   "metadata": {
    "pycharm": {
     "name": "#%% md\n"
    }
   },
   "source": [
    "## Test-Train Split"
   ]
  },
  {
   "cell_type": "code",
   "execution_count": 8,
   "metadata": {
    "pycharm": {
     "name": "#%%\n"
    }
   },
   "outputs": [
    {
     "data": {
      "text/plain": [
       "True"
      ]
     },
     "execution_count": 8,
     "metadata": {},
     "output_type": "execute_result"
    }
   ],
   "source": [
    "train_dataset = api.create_dataset(\n",
    "    data, {\"name\": \"Engine Failure | Training\",\n",
    "                     \"sample_rate\": 0.8, \"seed\": \"my seed\"})\n",
    "api.ok(train_dataset)"
   ]
  },
  {
   "cell_type": "code",
   "execution_count": 9,
   "metadata": {
    "pycharm": {
     "name": "#%%\n"
    }
   },
   "outputs": [
    {
     "data": {
      "text/plain": [
       "True"
      ]
     },
     "execution_count": 9,
     "metadata": {},
     "output_type": "execute_result"
    }
   ],
   "source": [
    "test_dataset = api.create_dataset(\n",
    "    data, {\"name\": \"Engine Failure | Test\",\n",
    "                     \"sample_rate\": 0.8, \"seed\": \"my seed\",\n",
    "                     \"out_of_bag\": True})\n",
    "api.ok(test_dataset)"
   ]
  },
  {
   "cell_type": "markdown",
   "metadata": {
    "pycharm": {
     "name": "#%% md\n"
    }
   },
   "source": [
    "## Creating Models"
   ]
  },
  {
   "cell_type": "markdown",
   "metadata": {
    "pycharm": {
     "name": "#%% md\n"
    }
   },
   "source": [
    "### Deepnet"
   ]
  },
  {
   "cell_type": "code",
   "execution_count": 10,
   "metadata": {
    "pycharm": {
     "name": "#%%\n"
    }
   },
   "outputs": [],
   "source": [
    "model_name = \"deepnet_bigml\"\n",
    "desc = \"bigml deepnet test for dataset failure\"\n",
    "model_out_file_name = model_name + \".json\"\n",
    "model_out_path = os.path.join(ARTIFACTS_PATH, model_out_file_name)"
   ]
  },
  {
   "cell_type": "code",
   "execution_count": 11,
   "metadata": {
    "pycharm": {
     "name": "#%%\n"
    }
   },
   "outputs": [
    {
     "data": {
      "text/plain": [
       "True"
      ]
     },
     "execution_count": 11,
     "metadata": {},
     "output_type": "execute_result"
    }
   ],
   "source": [
    "deepnet_model = api.create_deepnet(train_dataset, {\n",
    "    \"name\" : model_name,\n",
    "    \"tags\" : [model_name],\n",
    "    \"excluded_fields\": [\"RUL\",\"unit_number\"],\n",
    "    \"objective_field\": \"failure_next_30_cycles\"})\n",
    "\n",
    "api.ok(deepnet_model)"
   ]
  },
  {
   "cell_type": "code",
   "execution_count": 12,
   "metadata": {
    "pycharm": {
     "name": "#%%\n"
    }
   },
   "outputs": [
    {
     "data": {
      "text/plain": [
       "True"
      ]
     },
     "execution_count": 12,
     "metadata": {},
     "output_type": "execute_result"
    }
   ],
   "source": [
    "pred = api.create_evaluation(deepnet_model,test_dataset)\n",
    "api.ok(pred)"
   ]
  },
  {
   "cell_type": "code",
   "execution_count": 13,
   "metadata": {
    "pycharm": {
     "name": "#%%\n"
    }
   },
   "outputs": [
    {
     "data": {
      "text/plain": [
       "'../../artifacts/bigml//deepnet_bigml.json'"
      ]
     },
     "execution_count": 13,
     "metadata": {},
     "output_type": "execute_result"
    }
   ],
   "source": [
    "api.export_last(model_name,\n",
    "                resource_type=\"deepnet\",\n",
    "                filename=model_out_path)\n"
   ]
  },
  {
   "cell_type": "code",
   "execution_count": 14,
   "metadata": {
    "pycharm": {
     "name": "#%%\n"
    }
   },
   "outputs": [
    {
     "name": "stdout",
     "output_type": "stream",
     "text": [
      "False\n"
     ]
    }
   ],
   "source": [
    "input_data = {\"unit_number\":1,\"time_cycles\": 1,\"op_setting_1\": -0.0007,\"op_setting_2\": -0.0004,\"op_setting_3\": 100,\"sensory_measure_1\": 518.67,\"sensory_measure_2\": 641.82,\"sensory_measure_3\": 1589.7, \"sensory_measure_4\": 1400.6,\"sensory_measure_5\": 14.62, \"sensory_measure_6\": 21.61,\"sensory_measure_7\": 554.36,\"sensory_measure_8\": 2388.06,\"sensory_measure_9\": 9046.19, \"sensory_measure_10\": 1.3,\"sensory_measure_11\": 47.47,\"sensory_measure_12\": 521.66,\"sensory_measure_13\": 2388.02,\"sensory_measure_14\": 8.4195,\"sensory_measure_15\": 0.03, \"sensory_measure_16\": 39.06,\"sensory_measure_17\": 100.0,\"sensory_measure_18\": 2388,\"sensory_measure_19\": 392,\"sensory_measure_20\": 0.03,\"sensory_measure_21\": 23.419, \"prev_5_mean\": 1439.2204047619048,\"prev_5_std\": 2464.9756804296103}\n",
    "\n",
    "out =  api.create_prediction(deepnet_model,input_data)\n",
    "print(out[\"object\"][\"output\"])"
   ]
  },
  {
   "cell_type": "code",
   "execution_count": 15,
   "metadata": {
    "pycharm": {
     "name": "#%%\n"
    }
   },
   "outputs": [
    {
     "name": "stdout",
     "output_type": "stream",
     "text": [
      "True\n"
     ]
    }
   ],
   "source": [
    "input_data = {\"unit_number\":260,\"time_cycles\":315,\"op_setting_1\":25.0033,\"op_setting_2\":0.622,\"op_setting_3\":60,\"sensory_measure_1\":462.54,\"sensory_measure_2\":537.84,\"sensory_measure_3\":1272.95,\"sensory_measure_4\":1066.3,\"sensory_measure_5\":7.05,\"sensory_measure_6\":9.04,\"sensory_measure_7\":174.81,\"sensory_measure_8\":1917.36,\"sensory_measure_9\":8112.63,\"sensory_measure_10\":0.94,\"sensory_measure_11\":37.32,\"sensory_measure_12\":164.37,\"sensory_measure_13\":2030.35,\"sensory_measure_14\":7972.47,\"sensory_measure_15\":11.0537,\"sensory_measure_16\":0.02,\"sensory_measure_17\":311,\"sensory_measure_18\":1915,\"sensory_measure_19\":84.93,\"sensory_measure_20\":14.05,\"sensory_measure_21\":8.3729,\"prev_5_mean\":1255.9403841269843,\"prev_5_std\":2306.2312965309643}\n",
    "\n",
    "out =  api.create_prediction(deepnet_model,input_data)\n",
    "print(out[\"object\"][\"output\"])"
   ]
  },
  {
   "cell_type": "markdown",
   "metadata": {
    "pycharm": {
     "name": "#%% md\n"
    }
   },
   "source": [
    "### Logistic Regresssion"
   ]
  },
  {
   "cell_type": "code",
   "execution_count": 16,
   "metadata": {
    "pycharm": {
     "name": "#%%\n"
    }
   },
   "outputs": [],
   "source": [
    "model_name = \"logreg_bigml\"\n",
    "model_out_file_name = model_name + \".json\"\n",
    "model_out_path = os.path.join(ARTIFACTS_PATH, model_out_file_name)"
   ]
  },
  {
   "cell_type": "code",
   "execution_count": 17,
   "metadata": {
    "pycharm": {
     "name": "#%%\n"
    }
   },
   "outputs": [
    {
     "data": {
      "text/plain": [
       "True"
      ]
     },
     "execution_count": 17,
     "metadata": {},
     "output_type": "execute_result"
    }
   ],
   "source": [
    "logreg_model = api.create_logistic_regression(train_dataset, {\n",
    "    \"name\" : model_name,\n",
    "    \"tags\" : [model_name],\n",
    "    \"excluded_fields\": [\"RUL\",\"unit_number\"],\n",
    "    \"objective_field\": \"failure_next_30_cycles\"})\n",
    "\n",
    "api.ok(logreg_model)"
   ]
  },
  {
   "cell_type": "code",
   "execution_count": 18,
   "metadata": {
    "pycharm": {
     "name": "#%%\n"
    }
   },
   "outputs": [
    {
     "data": {
      "text/plain": [
       "'../../artifacts/bigml//logreg_bigml.json'"
      ]
     },
     "execution_count": 18,
     "metadata": {},
     "output_type": "execute_result"
    }
   ],
   "source": [
    "api.export_last(model_name,\n",
    "                resource_type=\"logisticregression\",\n",
    "                filename=model_out_path)"
   ]
  },
  {
   "cell_type": "code",
   "execution_count": 19,
   "metadata": {
    "pycharm": {
     "name": "#%%\n"
    }
   },
   "outputs": [
    {
     "name": "stdout",
     "output_type": "stream",
     "text": [
      "True\n"
     ]
    }
   ],
   "source": [
    "input_data = {\"unit_number\":1,\"time_cycles\": 1,\"op_setting_1\": -0.0007,\"op_setting_2\": -0.0004,\"op_setting_3\": 100,\"sensory_measure_1\": 518.67,\"sensory_measure_2\": 641.82,\"sensory_measure_3\": 1589.7, \"sensory_measure_4\": 1400.6,\"sensory_measure_5\": 14.62, \"sensory_measure_6\": 21.61,\"sensory_measure_7\": 554.36,\"sensory_measure_8\": 2388.06,\"sensory_measure_9\": 9046.19, \"sensory_measure_10\": 1.3,\"sensory_measure_11\": 47.47,\"sensory_measure_12\": 521.66,\"sensory_measure_13\": 2388.02,\"sensory_measure_14\": 8.4195,\"sensory_measure_15\": 0.03, \"sensory_measure_16\": 39.06,\"sensory_measure_17\": 100.0,\"sensory_measure_18\": 2388,\"sensory_measure_19\": 392,\"sensory_measure_20\": 0.03,\"sensory_measure_21\": 23.419, \"prev_5_mean\": 1439.2204047619048,\"prev_5_std\": 2464.9756804296103}\n",
    "\n",
    "out =  api.create_prediction(logreg_model,input_data)\n",
    "print(out[\"object\"][\"output\"])"
   ]
  },
  {
   "cell_type": "code",
   "execution_count": 20,
   "metadata": {
    "pycharm": {
     "name": "#%%\n"
    }
   },
   "outputs": [
    {
     "name": "stdout",
     "output_type": "stream",
     "text": [
      "True\n"
     ]
    }
   ],
   "source": [
    "input_data = {\"unit_number\":260,\"time_cycles\":315,\"op_setting_1\":25.0033,\"op_setting_2\":0.622,\"op_setting_3\":60,\"sensory_measure_1\":462.54,\"sensory_measure_2\":537.84,\"sensory_measure_3\":1272.95,\"sensory_measure_4\":1066.3,\"sensory_measure_5\":7.05,\"sensory_measure_6\":9.04,\"sensory_measure_7\":174.81,\"sensory_measure_8\":1917.36,\"sensory_measure_9\":8112.63,\"sensory_measure_10\":0.94,\"sensory_measure_11\":37.32,\"sensory_measure_12\":164.37,\"sensory_measure_13\":2030.35,\"sensory_measure_14\":7972.47,\"sensory_measure_15\":11.0537,\"sensory_measure_16\":0.02,\"sensory_measure_17\":311,\"sensory_measure_18\":1915,\"sensory_measure_19\":84.93,\"sensory_measure_20\":14.05,\"sensory_measure_21\":8.3729,\"prev_5_mean\":1255.9403841269843,\"prev_5_std\":2306.2312965309643}\n",
    "\n",
    "out =  api.create_prediction(logreg_model,input_data)\n",
    "print(out[\"object\"][\"output\"])"
   ]
  },
  {
   "cell_type": "markdown",
   "metadata": {
    "pycharm": {
     "name": "#%% md\n"
    }
   },
   "source": [
    "### Model (GBM)"
   ]
  },
  {
   "cell_type": "code",
   "execution_count": 21,
   "metadata": {
    "pycharm": {
     "name": "#%%\n"
    }
   },
   "outputs": [],
   "source": [
    "model_name = \"gbm_bigml\"\n",
    "desc = \"bigml gbm test for dataset failure\"\n",
    "model_out_file_name = model_name + \".json\"\n",
    "model_out_path = os.path.join(ARTIFACTS_PATH, model_out_file_name)"
   ]
  },
  {
   "cell_type": "code",
   "execution_count": 22,
   "metadata": {
    "pycharm": {
     "name": "#%%\n"
    }
   },
   "outputs": [
    {
     "data": {
      "text/plain": [
       "True"
      ]
     },
     "execution_count": 22,
     "metadata": {},
     "output_type": "execute_result"
    }
   ],
   "source": [
    "gbm_model = api.create_model(train_dataset, {\n",
    "    \"name\" : model_name,\n",
    "    \"tags\" : [model_name],\n",
    "    \"excluded_fields\": [\"RUL\",\"unit_number\"],\n",
    "    \"objective_field\": \"failure_next_30_cycles\"})\n",
    "\n",
    "api.ok(gbm_model)"
   ]
  },
  {
   "cell_type": "code",
   "execution_count": 23,
   "metadata": {
    "pycharm": {
     "name": "#%%\n"
    }
   },
   "outputs": [
    {
     "data": {
      "text/plain": [
       "'../../artifacts/bigml//gbm_bigml.json'"
      ]
     },
     "execution_count": 23,
     "metadata": {},
     "output_type": "execute_result"
    }
   ],
   "source": [
    "api.export_last(\"gbm_model\",\n",
    "                resource_type=\"model\",\n",
    "                filename=model_out_path)\n"
   ]
  },
  {
   "cell_type": "code",
   "execution_count": 24,
   "metadata": {
    "pycharm": {
     "name": "#%%\n"
    }
   },
   "outputs": [
    {
     "name": "stdout",
     "output_type": "stream",
     "text": [
      "False\n"
     ]
    }
   ],
   "source": [
    "input_data = {\"unit_number\":1,\"time_cycles\": 1,\"op_setting_1\": -0.0007,\"op_setting_2\": -0.0004,\"op_setting_3\": 100,\"sensory_measure_1\": 518.67,\"sensory_measure_2\": 641.82,\"sensory_measure_3\": 1589.7, \"sensory_measure_4\": 1400.6,\"sensory_measure_5\": 14.62, \"sensory_measure_6\": 21.61,\"sensory_measure_7\": 554.36,\"sensory_measure_8\": 2388.06,\"sensory_measure_9\": 9046.19, \"sensory_measure_10\": 1.3,\"sensory_measure_11\": 47.47,\"sensory_measure_12\": 521.66,\"sensory_measure_13\": 2388.02,\"sensory_measure_14\": 8.4195,\"sensory_measure_15\": 0.03, \"sensory_measure_16\": 39.06,\"sensory_measure_17\": 100.0,\"sensory_measure_18\": 2388,\"sensory_measure_19\": 392,\"sensory_measure_20\": 0.03,\"sensory_measure_21\": 23.419, \"prev_5_mean\": 1439.2204047619048,\"prev_5_std\": 2464.9756804296103}\n",
    "\n",
    "out =  api.create_prediction(gbm_model,input_data)\n",
    "print(out[\"object\"][\"output\"])"
   ]
  },
  {
   "cell_type": "code",
   "execution_count": 25,
   "metadata": {
    "pycharm": {
     "name": "#%%\n"
    }
   },
   "outputs": [
    {
     "name": "stdout",
     "output_type": "stream",
     "text": [
      "True\n"
     ]
    }
   ],
   "source": [
    "input_data = {\"unit_number\":260,\"time_cycles\":315,\"op_setting_1\":25.0033,\"op_setting_2\":0.622,\"op_setting_3\":60,\"sensory_measure_1\":462.54,\"sensory_measure_2\":537.84,\"sensory_measure_3\":1272.95,\"sensory_measure_4\":1066.3,\"sensory_measure_5\":7.05,\"sensory_measure_6\":9.04,\"sensory_measure_7\":174.81,\"sensory_measure_8\":1917.36,\"sensory_measure_9\":8112.63,\"sensory_measure_10\":0.94,\"sensory_measure_11\":37.32,\"sensory_measure_12\":164.37,\"sensory_measure_13\":2030.35,\"sensory_measure_14\":7972.47,\"sensory_measure_15\":11.0537,\"sensory_measure_16\":0.02,\"sensory_measure_17\":311,\"sensory_measure_18\":1915,\"sensory_measure_19\":84.93,\"sensory_measure_20\":14.05,\"sensory_measure_21\":8.3729,\"prev_5_mean\":1255.9403841269843,\"prev_5_std\":2306.2312965309643}\n",
    "\n",
    "out =  api.create_prediction(gbm_model,input_data)\n",
    "print(out[\"object\"][\"output\"])"
   ]
  }
 ],
 "metadata": {
  "kernelspec": {
   "display_name": "Python 3",
   "language": "python",
   "name": "python3"
  },
  "language_info": {
   "codemirror_mode": {
    "name": "ipython",
    "version": 3
   },
   "file_extension": ".py",
   "mimetype": "text/x-python",
   "name": "python",
   "nbconvert_exporter": "python",
   "pygments_lexer": "ipython3",
   "version": "3.8.10"
  }
 },
 "nbformat": 4,
 "nbformat_minor": 2
}